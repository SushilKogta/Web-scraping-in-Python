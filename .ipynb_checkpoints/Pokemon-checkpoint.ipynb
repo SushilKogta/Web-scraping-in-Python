{
 "cells": [
  {
   "cell_type": "markdown",
   "metadata": {},
   "source": [
    "### Exercise #1"
   ]
  },
  {
   "cell_type": "code",
   "execution_count": 3,
   "metadata": {},
   "outputs": [],
   "source": [
    "#importing libraries\n",
    "import requests\n",
    "from bs4 import BeautifulSoup\n",
    "import pandas as pd"
   ]
  },
  {
   "cell_type": "code",
   "execution_count": 4,
   "metadata": {},
   "outputs": [
    {
     "data": {
      "text/plain": [
       "<Response [200]>"
      ]
     },
     "execution_count": 4,
     "metadata": {},
     "output_type": "execute_result"
    }
   ],
   "source": [
    "#Getting data from the pokemon page \n",
    "pokemon_url = 'https://pokemondb.net/'\n",
    "# Issue a simple HTTP request to get the webpage text\n",
    "pokemon_page = requests.get(pokemon_url)\n",
    "# Response code is returned\n",
    "pokemon_page"
   ]
  },
  {
   "cell_type": "code",
   "execution_count": 5,
   "metadata": {},
   "outputs": [],
   "source": [
    "#parsing with BeautifulSoup library\n",
    "pokemon_page_soup = BeautifulSoup(pokemon_page.text, 'html.parser')"
   ]
  },
  {
   "cell_type": "code",
   "execution_count": 6,
   "metadata": {},
   "outputs": [
    {
     "data": {
      "text/plain": [
       "<Response [200]>"
      ]
     },
     "execution_count": 6,
     "metadata": {},
     "output_type": "execute_result"
    }
   ],
   "source": [
    "#Getting data from the pokemondb pokedex page \n",
    "pokemondb_url = 'https://pokemondb.net/pokedex/all'\n",
    "# Issue a simple HTTP request to get the webpage text\n",
    "pokemondb_page = requests.get(pokemondb_url)\n",
    "# Response code is returned\n",
    "pokemondb_page"
   ]
  },
  {
   "cell_type": "code",
   "execution_count": 7,
   "metadata": {},
   "outputs": [],
   "source": [
    "#parsing with BeautifulSoup library\n",
    "pokemondb_page_soup = BeautifulSoup(pokemondb_page.text, 'html.parser')"
   ]
  },
  {
   "cell_type": "code",
   "execution_count": 8,
   "metadata": {},
   "outputs": [
    {
     "name": "stdout",
     "output_type": "stream",
     "text": [
      "The number of tables in the list: 1\n"
     ]
    }
   ],
   "source": [
    "#Finding all the tables with class data-table block-wide and Counting the total tables\n",
    "pokemondb_table = pokemondb_page_soup.find_all(name=\"table\", class_=\"data-table block-wide\")\n",
    "print('The number of tables in the list: ' + str(len(pokemondb_table)))"
   ]
  },
  {
   "cell_type": "code",
   "execution_count": 9,
   "metadata": {},
   "outputs": [],
   "source": [
    "#pokemondb_page_soup"
   ]
  },
  {
   "cell_type": "markdown",
   "metadata": {},
   "source": [
    "#### Step 1.1"
   ]
  },
  {
   "cell_type": "code",
   "execution_count": 10,
   "metadata": {},
   "outputs": [
    {
     "name": "stdout",
     "output_type": "stream",
     "text": [
      "Number of rows including header: 927\n"
     ]
    }
   ],
   "source": [
    "# .find_all returns all matches in a list\n",
    "pokemondb_values_list = pokemondb_page_soup.find_all(name = \"tr\" )\n",
    "#print(pokemondb_values_list)\n",
    "print(\"Number of rows including header: \" + str(len(pokemondb_values_list)))"
   ]
  },
  {
   "cell_type": "code",
   "execution_count": 11,
   "metadata": {},
   "outputs": [],
   "source": [
    "bulbasaur = pokemondb_values_list[1]\n",
    "#bulbasaur.prettify()"
   ]
  },
  {
   "cell_type": "markdown",
   "metadata": {},
   "source": [
    "#### Step 1.2"
   ]
  },
  {
   "cell_type": "code",
   "execution_count": 12,
   "metadata": {},
   "outputs": [
    {
     "name": "stdout",
     "output_type": "stream",
     "text": [
      "Bulbasaur\n"
     ]
    }
   ],
   "source": [
    "#1.2)a)We could have used .find for the name of pokemon\n",
    "print(bulbasaur.find(name=\"a\", class_=\"ent-name\").text)"
   ]
  },
  {
   "cell_type": "code",
   "execution_count": 13,
   "metadata": {},
   "outputs": [
    {
     "name": "stdout",
     "output_type": "stream",
     "text": [
      "url to pokemon's page: https://pokemondb.net/pokedex/bulbasaur\n"
     ]
    }
   ],
   "source": [
    "#1.2)b)We could have used .find for the url\"href\"\n",
    "url = bulbasaur.find(href= True)\n",
    "link = url['href']\n",
    "print(\"url to pokemon's page: https://pokemondb.net\"+str(link))"
   ]
  },
  {
   "cell_type": "code",
   "execution_count": 14,
   "metadata": {},
   "outputs": [],
   "source": [
    "#1.2)c)We could have used .find for the class \"cell-icon\" to get type\n",
    "type12 = bulbasaur.find(name=\"td\", class_=\"cell-icon\").text\n",
    "type1 = type12.split()"
   ]
  },
  {
   "cell_type": "code",
   "execution_count": 15,
   "metadata": {},
   "outputs": [
    {
     "data": {
      "text/plain": [
       "['Grass', 'Poison']"
      ]
     },
     "execution_count": 15,
     "metadata": {},
     "output_type": "execute_result"
    }
   ],
   "source": [
    "type1"
   ]
  },
  {
   "cell_type": "code",
   "execution_count": 16,
   "metadata": {},
   "outputs": [
    {
     "name": "stdout",
     "output_type": "stream",
     "text": [
      "318\n"
     ]
    }
   ],
   "source": [
    "#1.2)d)We could have used .find for the class \"cell-total\" to get Total points\n",
    "print(bulbasaur.find(name=\"td\", class_=\"cell-total\").text)"
   ]
  },
  {
   "cell_type": "code",
   "execution_count": 17,
   "metadata": {},
   "outputs": [
    {
     "name": "stdout",
     "output_type": "stream",
     "text": [
      "['001', '45', '49', '49', '65', '65', '45']\n"
     ]
    }
   ],
   "source": [
    "#1.2)e)\n",
    "\n",
    "pokemon_data1 = [] #empty list to fill values in it.\n",
    "pokemon = bulbasaur.find_all(name = 'td', class_ = 'cell-num') # cell-num is common to hp,attack,defense, etc. so will be enough to fetch all data and append in one list\n",
    "\n",
    "length=len(pokemon) #using length of fetched elements in list so as to run the loop so as to append in list\n",
    "\n",
    "for i in range(length):\n",
    "    pokemon_data1.append(pokemon[i].text) #appending elements in list\n",
    "    \n",
    "print(pokemon_data1)   #printin "
   ]
  },
  {
   "cell_type": "markdown",
   "metadata": {},
   "source": [
    "#### Step 1.3"
   ]
  },
  {
   "cell_type": "code",
   "execution_count": 18,
   "metadata": {},
   "outputs": [],
   "source": [
    "# defining fucntion which generalizes step 1.2 to give the results which will return a dataframe of single row\n",
    "\n",
    "def pokemon_info(row=1): #default value for row is 1\n",
    "    \n",
    "    if(row>0):                                    #using this to skip the header row\n",
    "        pokemon_ = pokemondb_values_list[row]     #taking information about mentioned row's pokemon\n",
    "        pokemon_data = []                         #initializing empty list \n",
    "        \n",
    "        pokemon_data.append(pokemon_.find(name=\"a\", class_=\"ent-name\").text) #appending name of pokemon to list elements \n",
    "        \n",
    "        url_data = pokemon_.find(href= True)\n",
    "        link_data = \"https://pokemondb.net\"+str(url_data['href'])\n",
    "        pokemon_data.append(link_data)                                       #appending url of pokemon to list elements\n",
    "        \n",
    "        typemix=pokemon_.find(name=\"td\", class_=\"cell-icon\").text\n",
    "        typesingle=typemix.split()\n",
    "        pokemon_data.append(typesingle)                                      #appending type of pokemon to list     \n",
    "        \n",
    "        pokemon_data.append(pokemon_.find(name=\"td\", class_=\"cell-total\").text) #appedning cell total to list\n",
    "        \n",
    "        pokemon_data1 = []\n",
    "        pokemon = pokemon_.find_all(name = 'td', class_ = 'cell-num')        \n",
    "        length=len(pokemon)\n",
    "        for i in range(length):\n",
    "            pokemon_data1.append(pokemon[i].text)\n",
    "            \n",
    "        pokemon_data.extend(pokemon_data1)                                  #extending results from 1.2)e) to list\n",
    "        \n",
    "        return pd.DataFrame(pokemon_data).T                                 #converting list into dataframe and returning as single row\n",
    "    \n",
    "    else:\n",
    "        print(\"You are giving a wrong row number\")                          "
   ]
  },
  {
   "cell_type": "code",
   "execution_count": 19,
   "metadata": {},
   "outputs": [
    {
     "data": {
      "text/plain": [
       "927"
      ]
     },
     "execution_count": 19,
     "metadata": {},
     "output_type": "execute_result"
    }
   ],
   "source": [
    "tot_rows=len(pokemondb_values_list)\n",
    "tot_rows"
   ]
  },
  {
   "cell_type": "markdown",
   "metadata": {},
   "source": [
    "### Exercise #2"
   ]
  },
  {
   "cell_type": "code",
   "execution_count": 20,
   "metadata": {},
   "outputs": [],
   "source": [
    "pok_df =pokemon_info(1)  # taking information for first row"
   ]
  },
  {
   "cell_type": "code",
   "execution_count": 21,
   "metadata": {},
   "outputs": [
    {
     "data": {
      "text/html": [
       "<div>\n",
       "<style scoped>\n",
       "    .dataframe tbody tr th:only-of-type {\n",
       "        vertical-align: middle;\n",
       "    }\n",
       "\n",
       "    .dataframe tbody tr th {\n",
       "        vertical-align: top;\n",
       "    }\n",
       "\n",
       "    .dataframe thead th {\n",
       "        text-align: right;\n",
       "    }\n",
       "</style>\n",
       "<table border=\"1\" class=\"dataframe\">\n",
       "  <thead>\n",
       "    <tr style=\"text-align: right;\">\n",
       "      <th></th>\n",
       "      <th>0</th>\n",
       "      <th>1</th>\n",
       "      <th>2</th>\n",
       "      <th>3</th>\n",
       "      <th>4</th>\n",
       "      <th>5</th>\n",
       "      <th>6</th>\n",
       "      <th>7</th>\n",
       "      <th>8</th>\n",
       "      <th>9</th>\n",
       "      <th>10</th>\n",
       "    </tr>\n",
       "  </thead>\n",
       "  <tbody>\n",
       "    <tr>\n",
       "      <th>0</th>\n",
       "      <td>Bulbasaur</td>\n",
       "      <td>https://pokemondb.net/pokedex/bulbasaur</td>\n",
       "      <td>[Grass, Poison]</td>\n",
       "      <td>318</td>\n",
       "      <td>001</td>\n",
       "      <td>45</td>\n",
       "      <td>49</td>\n",
       "      <td>49</td>\n",
       "      <td>65</td>\n",
       "      <td>65</td>\n",
       "      <td>45</td>\n",
       "    </tr>\n",
       "  </tbody>\n",
       "</table>\n",
       "</div>"
      ],
      "text/plain": [
       "          0                                        1                2    3   \\\n",
       "0  Bulbasaur  https://pokemondb.net/pokedex/bulbasaur  [Grass, Poison]  318   \n",
       "\n",
       "    4   5   6   7   8   9   10  \n",
       "0  001  45  49  49  65  65  45  "
      ]
     },
     "execution_count": 21,
     "metadata": {},
     "output_type": "execute_result"
    }
   ],
   "source": [
    "pok_df      # dataframe for first row"
   ]
  },
  {
   "cell_type": "code",
   "execution_count": 22,
   "metadata": {},
   "outputs": [],
   "source": [
    "pok_df = pd.DataFrame()\n",
    "\n",
    "for i in range(tot_rows):      #Extracting every row from table and adding it to dataframe\n",
    "    i=i+1\n",
    "    if i<927:\n",
    "        pok_df1=pokemon_info(i)\n",
    "        \n",
    "    pok_df=pok_df.append(pok_df1,ignore_index=True)    \n",
    "    "
   ]
  },
  {
   "cell_type": "code",
   "execution_count": 23,
   "metadata": {},
   "outputs": [
    {
     "data": {
      "text/html": [
       "<div>\n",
       "<style scoped>\n",
       "    .dataframe tbody tr th:only-of-type {\n",
       "        vertical-align: middle;\n",
       "    }\n",
       "\n",
       "    .dataframe tbody tr th {\n",
       "        vertical-align: top;\n",
       "    }\n",
       "\n",
       "    .dataframe thead th {\n",
       "        text-align: right;\n",
       "    }\n",
       "</style>\n",
       "<table border=\"1\" class=\"dataframe\">\n",
       "  <thead>\n",
       "    <tr style=\"text-align: right;\">\n",
       "      <th></th>\n",
       "      <th>0</th>\n",
       "      <th>1</th>\n",
       "      <th>2</th>\n",
       "      <th>3</th>\n",
       "      <th>4</th>\n",
       "      <th>5</th>\n",
       "      <th>6</th>\n",
       "      <th>7</th>\n",
       "      <th>8</th>\n",
       "      <th>9</th>\n",
       "      <th>10</th>\n",
       "    </tr>\n",
       "  </thead>\n",
       "  <tbody>\n",
       "    <tr>\n",
       "      <th>0</th>\n",
       "      <td>Bulbasaur</td>\n",
       "      <td>https://pokemondb.net/pokedex/bulbasaur</td>\n",
       "      <td>[Grass, Poison]</td>\n",
       "      <td>318</td>\n",
       "      <td>001</td>\n",
       "      <td>45</td>\n",
       "      <td>49</td>\n",
       "      <td>49</td>\n",
       "      <td>65</td>\n",
       "      <td>65</td>\n",
       "      <td>45</td>\n",
       "    </tr>\n",
       "    <tr>\n",
       "      <th>1</th>\n",
       "      <td>Ivysaur</td>\n",
       "      <td>https://pokemondb.net/pokedex/ivysaur</td>\n",
       "      <td>[Grass, Poison]</td>\n",
       "      <td>405</td>\n",
       "      <td>002</td>\n",
       "      <td>60</td>\n",
       "      <td>62</td>\n",
       "      <td>63</td>\n",
       "      <td>80</td>\n",
       "      <td>80</td>\n",
       "      <td>60</td>\n",
       "    </tr>\n",
       "    <tr>\n",
       "      <th>2</th>\n",
       "      <td>Venusaur</td>\n",
       "      <td>https://pokemondb.net/pokedex/venusaur</td>\n",
       "      <td>[Grass, Poison]</td>\n",
       "      <td>525</td>\n",
       "      <td>003</td>\n",
       "      <td>80</td>\n",
       "      <td>82</td>\n",
       "      <td>83</td>\n",
       "      <td>100</td>\n",
       "      <td>100</td>\n",
       "      <td>80</td>\n",
       "    </tr>\n",
       "    <tr>\n",
       "      <th>3</th>\n",
       "      <td>Venusaur</td>\n",
       "      <td>https://pokemondb.net/pokedex/venusaur</td>\n",
       "      <td>[Grass, Poison]</td>\n",
       "      <td>625</td>\n",
       "      <td>003</td>\n",
       "      <td>80</td>\n",
       "      <td>100</td>\n",
       "      <td>123</td>\n",
       "      <td>122</td>\n",
       "      <td>120</td>\n",
       "      <td>80</td>\n",
       "    </tr>\n",
       "    <tr>\n",
       "      <th>4</th>\n",
       "      <td>Charmander</td>\n",
       "      <td>https://pokemondb.net/pokedex/charmander</td>\n",
       "      <td>[Fire]</td>\n",
       "      <td>309</td>\n",
       "      <td>004</td>\n",
       "      <td>39</td>\n",
       "      <td>52</td>\n",
       "      <td>43</td>\n",
       "      <td>60</td>\n",
       "      <td>50</td>\n",
       "      <td>65</td>\n",
       "    </tr>\n",
       "  </tbody>\n",
       "</table>\n",
       "</div>"
      ],
      "text/plain": [
       "           0                                         1                2    3   \\\n",
       "0   Bulbasaur   https://pokemondb.net/pokedex/bulbasaur  [Grass, Poison]  318   \n",
       "1     Ivysaur     https://pokemondb.net/pokedex/ivysaur  [Grass, Poison]  405   \n",
       "2    Venusaur    https://pokemondb.net/pokedex/venusaur  [Grass, Poison]  525   \n",
       "3    Venusaur    https://pokemondb.net/pokedex/venusaur  [Grass, Poison]  625   \n",
       "4  Charmander  https://pokemondb.net/pokedex/charmander           [Fire]  309   \n",
       "\n",
       "    4   5    6    7    8    9   10  \n",
       "0  001  45   49   49   65   65  45  \n",
       "1  002  60   62   63   80   80  60  \n",
       "2  003  80   82   83  100  100  80  \n",
       "3  003  80  100  123  122  120  80  \n",
       "4  004  39   52   43   60   50  65  "
      ]
     },
     "execution_count": 23,
     "metadata": {},
     "output_type": "execute_result"
    }
   ],
   "source": [
    "pok_df.head()"
   ]
  },
  {
   "cell_type": "markdown",
   "metadata": {},
   "source": [
    "#### Step 2.1"
   ]
  },
  {
   "cell_type": "code",
   "execution_count": 24,
   "metadata": {},
   "outputs": [],
   "source": [
    "#Add column names to dataframe\n",
    "pok_df.columns = ['Name', 'URL', 'Type/s','Total points','ID Number','HP','Attack','Defense','Sp. Atk','Sp. Def','Speed']"
   ]
  },
  {
   "cell_type": "code",
   "execution_count": 25,
   "metadata": {},
   "outputs": [
    {
     "data": {
      "text/plain": [
       "0    https://pokemondb.net/pokedex/bulbasaur\n",
       "Name: URL, dtype: object"
      ]
     },
     "execution_count": 25,
     "metadata": {},
     "output_type": "execute_result"
    }
   ],
   "source": [
    "pok_df[pok_df['Name']==\"Bulbasaur\"].URL"
   ]
  },
  {
   "cell_type": "code",
   "execution_count": 26,
   "metadata": {},
   "outputs": [],
   "source": [
    "#converting strings to numeric where needed\n",
    "pok_df['Total points']=pok_df['Total points'].astype(int)\n",
    "pok_df['ID Number']=pok_df['ID Number'].astype(int)\n",
    "pok_df['HP']=pok_df['HP'].astype(int)\n",
    "pok_df['Attack']=pok_df['Attack'].astype(int)\n",
    "pok_df['Defense']=pok_df['Defense'].astype(int)\n",
    "pok_df['Sp. Atk']=pok_df['Sp. Atk'].astype(int)\n",
    "pok_df['Sp. Def']=pok_df['Sp. Def'].astype(int)\n",
    "pok_df['Speed']=pok_df['Speed'].astype(int)"
   ]
  },
  {
   "cell_type": "code",
   "execution_count": 27,
   "metadata": {},
   "outputs": [],
   "source": [
    "# Making ID number first column in dataframe "
   ]
  },
  {
   "cell_type": "code",
   "execution_count": 28,
   "metadata": {},
   "outputs": [],
   "source": [
    "cols = list(pok_df.columns.values)"
   ]
  },
  {
   "cell_type": "code",
   "execution_count": 29,
   "metadata": {},
   "outputs": [
    {
     "data": {
      "text/plain": [
       "['Name',\n",
       " 'URL',\n",
       " 'Type/s',\n",
       " 'Total points',\n",
       " 'ID Number',\n",
       " 'HP',\n",
       " 'Attack',\n",
       " 'Defense',\n",
       " 'Sp. Atk',\n",
       " 'Sp. Def',\n",
       " 'Speed']"
      ]
     },
     "execution_count": 29,
     "metadata": {},
     "output_type": "execute_result"
    }
   ],
   "source": [
    "cols"
   ]
  },
  {
   "cell_type": "code",
   "execution_count": 30,
   "metadata": {},
   "outputs": [],
   "source": [
    "columnsTitles = ['ID Number','Name','URL','Type/s','Total points','HP','Attack','Defense','Sp. Atk','Sp. Def','Speed']\n",
    "\n",
    "pok_df = pok_df.reindex(columns=columnsTitles)"
   ]
  },
  {
   "cell_type": "code",
   "execution_count": 31,
   "metadata": {},
   "outputs": [
    {
     "data": {
      "text/html": [
       "<div>\n",
       "<style scoped>\n",
       "    .dataframe tbody tr th:only-of-type {\n",
       "        vertical-align: middle;\n",
       "    }\n",
       "\n",
       "    .dataframe tbody tr th {\n",
       "        vertical-align: top;\n",
       "    }\n",
       "\n",
       "    .dataframe thead th {\n",
       "        text-align: right;\n",
       "    }\n",
       "</style>\n",
       "<table border=\"1\" class=\"dataframe\">\n",
       "  <thead>\n",
       "    <tr style=\"text-align: right;\">\n",
       "      <th></th>\n",
       "      <th>ID Number</th>\n",
       "      <th>Name</th>\n",
       "      <th>URL</th>\n",
       "      <th>Type/s</th>\n",
       "      <th>Total points</th>\n",
       "      <th>HP</th>\n",
       "      <th>Attack</th>\n",
       "      <th>Defense</th>\n",
       "      <th>Sp. Atk</th>\n",
       "      <th>Sp. Def</th>\n",
       "      <th>Speed</th>\n",
       "    </tr>\n",
       "  </thead>\n",
       "  <tbody>\n",
       "    <tr>\n",
       "      <th>0</th>\n",
       "      <td>1</td>\n",
       "      <td>Bulbasaur</td>\n",
       "      <td>https://pokemondb.net/pokedex/bulbasaur</td>\n",
       "      <td>[Grass, Poison]</td>\n",
       "      <td>318</td>\n",
       "      <td>45</td>\n",
       "      <td>49</td>\n",
       "      <td>49</td>\n",
       "      <td>65</td>\n",
       "      <td>65</td>\n",
       "      <td>45</td>\n",
       "    </tr>\n",
       "    <tr>\n",
       "      <th>1</th>\n",
       "      <td>2</td>\n",
       "      <td>Ivysaur</td>\n",
       "      <td>https://pokemondb.net/pokedex/ivysaur</td>\n",
       "      <td>[Grass, Poison]</td>\n",
       "      <td>405</td>\n",
       "      <td>60</td>\n",
       "      <td>62</td>\n",
       "      <td>63</td>\n",
       "      <td>80</td>\n",
       "      <td>80</td>\n",
       "      <td>60</td>\n",
       "    </tr>\n",
       "    <tr>\n",
       "      <th>2</th>\n",
       "      <td>3</td>\n",
       "      <td>Venusaur</td>\n",
       "      <td>https://pokemondb.net/pokedex/venusaur</td>\n",
       "      <td>[Grass, Poison]</td>\n",
       "      <td>525</td>\n",
       "      <td>80</td>\n",
       "      <td>82</td>\n",
       "      <td>83</td>\n",
       "      <td>100</td>\n",
       "      <td>100</td>\n",
       "      <td>80</td>\n",
       "    </tr>\n",
       "    <tr>\n",
       "      <th>3</th>\n",
       "      <td>3</td>\n",
       "      <td>Venusaur</td>\n",
       "      <td>https://pokemondb.net/pokedex/venusaur</td>\n",
       "      <td>[Grass, Poison]</td>\n",
       "      <td>625</td>\n",
       "      <td>80</td>\n",
       "      <td>100</td>\n",
       "      <td>123</td>\n",
       "      <td>122</td>\n",
       "      <td>120</td>\n",
       "      <td>80</td>\n",
       "    </tr>\n",
       "    <tr>\n",
       "      <th>4</th>\n",
       "      <td>4</td>\n",
       "      <td>Charmander</td>\n",
       "      <td>https://pokemondb.net/pokedex/charmander</td>\n",
       "      <td>[Fire]</td>\n",
       "      <td>309</td>\n",
       "      <td>39</td>\n",
       "      <td>52</td>\n",
       "      <td>43</td>\n",
       "      <td>60</td>\n",
       "      <td>50</td>\n",
       "      <td>65</td>\n",
       "    </tr>\n",
       "  </tbody>\n",
       "</table>\n",
       "</div>"
      ],
      "text/plain": [
       "   ID Number        Name                                       URL  \\\n",
       "0          1   Bulbasaur   https://pokemondb.net/pokedex/bulbasaur   \n",
       "1          2     Ivysaur     https://pokemondb.net/pokedex/ivysaur   \n",
       "2          3    Venusaur    https://pokemondb.net/pokedex/venusaur   \n",
       "3          3    Venusaur    https://pokemondb.net/pokedex/venusaur   \n",
       "4          4  Charmander  https://pokemondb.net/pokedex/charmander   \n",
       "\n",
       "            Type/s  Total points  HP  Attack  Defense  Sp. Atk  Sp. Def  Speed  \n",
       "0  [Grass, Poison]           318  45      49       49       65       65     45  \n",
       "1  [Grass, Poison]           405  60      62       63       80       80     60  \n",
       "2  [Grass, Poison]           525  80      82       83      100      100     80  \n",
       "3  [Grass, Poison]           625  80     100      123      122      120     80  \n",
       "4           [Fire]           309  39      52       43       60       50     65  "
      ]
     },
     "execution_count": 31,
     "metadata": {},
     "output_type": "execute_result"
    }
   ],
   "source": [
    "pok_df.head()"
   ]
  },
  {
   "cell_type": "markdown",
   "metadata": {},
   "source": [
    "#### Step 2.2 "
   ]
  },
  {
   "cell_type": "code",
   "execution_count": 32,
   "metadata": {},
   "outputs": [],
   "source": [
    "pok_df_dummy=pok_df['Type/s'].str.join(sep=',').str.get_dummies(sep=',') #using column 'Type/s' to make dummy variables by separating 2 values in one column by comma and uniquely creating dummy variable for it. "
   ]
  },
  {
   "cell_type": "code",
   "execution_count": 33,
   "metadata": {},
   "outputs": [],
   "source": [
    "pok_df_result = pd.concat([pok_df,pok_df_dummy], axis=1) #adding dummy variable columns with result to right of dataframe"
   ]
  },
  {
   "cell_type": "code",
   "execution_count": 34,
   "metadata": {},
   "outputs": [
    {
     "data": {
      "text/html": [
       "<div>\n",
       "<style scoped>\n",
       "    .dataframe tbody tr th:only-of-type {\n",
       "        vertical-align: middle;\n",
       "    }\n",
       "\n",
       "    .dataframe tbody tr th {\n",
       "        vertical-align: top;\n",
       "    }\n",
       "\n",
       "    .dataframe thead th {\n",
       "        text-align: right;\n",
       "    }\n",
       "</style>\n",
       "<table border=\"1\" class=\"dataframe\">\n",
       "  <thead>\n",
       "    <tr style=\"text-align: right;\">\n",
       "      <th></th>\n",
       "      <th>ID Number</th>\n",
       "      <th>Name</th>\n",
       "      <th>URL</th>\n",
       "      <th>Type/s</th>\n",
       "      <th>Total points</th>\n",
       "      <th>HP</th>\n",
       "      <th>Attack</th>\n",
       "      <th>Defense</th>\n",
       "      <th>Sp. Atk</th>\n",
       "      <th>Sp. Def</th>\n",
       "      <th>...</th>\n",
       "      <th>Ghost</th>\n",
       "      <th>Grass</th>\n",
       "      <th>Ground</th>\n",
       "      <th>Ice</th>\n",
       "      <th>Normal</th>\n",
       "      <th>Poison</th>\n",
       "      <th>Psychic</th>\n",
       "      <th>Rock</th>\n",
       "      <th>Steel</th>\n",
       "      <th>Water</th>\n",
       "    </tr>\n",
       "  </thead>\n",
       "  <tbody>\n",
       "    <tr>\n",
       "      <th>0</th>\n",
       "      <td>1</td>\n",
       "      <td>Bulbasaur</td>\n",
       "      <td>https://pokemondb.net/pokedex/bulbasaur</td>\n",
       "      <td>[Grass, Poison]</td>\n",
       "      <td>318</td>\n",
       "      <td>45</td>\n",
       "      <td>49</td>\n",
       "      <td>49</td>\n",
       "      <td>65</td>\n",
       "      <td>65</td>\n",
       "      <td>...</td>\n",
       "      <td>0</td>\n",
       "      <td>1</td>\n",
       "      <td>0</td>\n",
       "      <td>0</td>\n",
       "      <td>0</td>\n",
       "      <td>1</td>\n",
       "      <td>0</td>\n",
       "      <td>0</td>\n",
       "      <td>0</td>\n",
       "      <td>0</td>\n",
       "    </tr>\n",
       "    <tr>\n",
       "      <th>1</th>\n",
       "      <td>2</td>\n",
       "      <td>Ivysaur</td>\n",
       "      <td>https://pokemondb.net/pokedex/ivysaur</td>\n",
       "      <td>[Grass, Poison]</td>\n",
       "      <td>405</td>\n",
       "      <td>60</td>\n",
       "      <td>62</td>\n",
       "      <td>63</td>\n",
       "      <td>80</td>\n",
       "      <td>80</td>\n",
       "      <td>...</td>\n",
       "      <td>0</td>\n",
       "      <td>1</td>\n",
       "      <td>0</td>\n",
       "      <td>0</td>\n",
       "      <td>0</td>\n",
       "      <td>1</td>\n",
       "      <td>0</td>\n",
       "      <td>0</td>\n",
       "      <td>0</td>\n",
       "      <td>0</td>\n",
       "    </tr>\n",
       "    <tr>\n",
       "      <th>2</th>\n",
       "      <td>3</td>\n",
       "      <td>Venusaur</td>\n",
       "      <td>https://pokemondb.net/pokedex/venusaur</td>\n",
       "      <td>[Grass, Poison]</td>\n",
       "      <td>525</td>\n",
       "      <td>80</td>\n",
       "      <td>82</td>\n",
       "      <td>83</td>\n",
       "      <td>100</td>\n",
       "      <td>100</td>\n",
       "      <td>...</td>\n",
       "      <td>0</td>\n",
       "      <td>1</td>\n",
       "      <td>0</td>\n",
       "      <td>0</td>\n",
       "      <td>0</td>\n",
       "      <td>1</td>\n",
       "      <td>0</td>\n",
       "      <td>0</td>\n",
       "      <td>0</td>\n",
       "      <td>0</td>\n",
       "    </tr>\n",
       "    <tr>\n",
       "      <th>3</th>\n",
       "      <td>3</td>\n",
       "      <td>Venusaur</td>\n",
       "      <td>https://pokemondb.net/pokedex/venusaur</td>\n",
       "      <td>[Grass, Poison]</td>\n",
       "      <td>625</td>\n",
       "      <td>80</td>\n",
       "      <td>100</td>\n",
       "      <td>123</td>\n",
       "      <td>122</td>\n",
       "      <td>120</td>\n",
       "      <td>...</td>\n",
       "      <td>0</td>\n",
       "      <td>1</td>\n",
       "      <td>0</td>\n",
       "      <td>0</td>\n",
       "      <td>0</td>\n",
       "      <td>1</td>\n",
       "      <td>0</td>\n",
       "      <td>0</td>\n",
       "      <td>0</td>\n",
       "      <td>0</td>\n",
       "    </tr>\n",
       "    <tr>\n",
       "      <th>4</th>\n",
       "      <td>4</td>\n",
       "      <td>Charmander</td>\n",
       "      <td>https://pokemondb.net/pokedex/charmander</td>\n",
       "      <td>[Fire]</td>\n",
       "      <td>309</td>\n",
       "      <td>39</td>\n",
       "      <td>52</td>\n",
       "      <td>43</td>\n",
       "      <td>60</td>\n",
       "      <td>50</td>\n",
       "      <td>...</td>\n",
       "      <td>0</td>\n",
       "      <td>0</td>\n",
       "      <td>0</td>\n",
       "      <td>0</td>\n",
       "      <td>0</td>\n",
       "      <td>0</td>\n",
       "      <td>0</td>\n",
       "      <td>0</td>\n",
       "      <td>0</td>\n",
       "      <td>0</td>\n",
       "    </tr>\n",
       "  </tbody>\n",
       "</table>\n",
       "<p>5 rows × 29 columns</p>\n",
       "</div>"
      ],
      "text/plain": [
       "   ID Number        Name                                       URL  \\\n",
       "0          1   Bulbasaur   https://pokemondb.net/pokedex/bulbasaur   \n",
       "1          2     Ivysaur     https://pokemondb.net/pokedex/ivysaur   \n",
       "2          3    Venusaur    https://pokemondb.net/pokedex/venusaur   \n",
       "3          3    Venusaur    https://pokemondb.net/pokedex/venusaur   \n",
       "4          4  Charmander  https://pokemondb.net/pokedex/charmander   \n",
       "\n",
       "            Type/s  Total points  HP  Attack  Defense  Sp. Atk  Sp. Def  ...  \\\n",
       "0  [Grass, Poison]           318  45      49       49       65       65  ...   \n",
       "1  [Grass, Poison]           405  60      62       63       80       80  ...   \n",
       "2  [Grass, Poison]           525  80      82       83      100      100  ...   \n",
       "3  [Grass, Poison]           625  80     100      123      122      120  ...   \n",
       "4           [Fire]           309  39      52       43       60       50  ...   \n",
       "\n",
       "   Ghost  Grass  Ground  Ice  Normal  Poison  Psychic  Rock  Steel  Water  \n",
       "0      0      1       0    0       0       1        0     0      0      0  \n",
       "1      0      1       0    0       0       1        0     0      0      0  \n",
       "2      0      1       0    0       0       1        0     0      0      0  \n",
       "3      0      1       0    0       0       1        0     0      0      0  \n",
       "4      0      0       0    0       0       0        0     0      0      0  \n",
       "\n",
       "[5 rows x 29 columns]"
      ]
     },
     "execution_count": 34,
     "metadata": {},
     "output_type": "execute_result"
    }
   ],
   "source": [
    "pok_df_result.head()"
   ]
  },
  {
   "cell_type": "markdown",
   "metadata": {},
   "source": [
    "#### Step 2.3"
   ]
  },
  {
   "cell_type": "code",
   "execution_count": 35,
   "metadata": {},
   "outputs": [
    {
     "name": "stdout",
     "output_type": "stream",
     "text": [
      "Number of rows:809\n"
     ]
    }
   ],
   "source": [
    "without_duplicates=pok_df.drop_duplicates('URL') #removing duplicates by using url and keeping first occuring value\n",
    "print(\"Number of rows:\" + str(len(without_duplicates)))"
   ]
  },
  {
   "cell_type": "code",
   "execution_count": 36,
   "metadata": {},
   "outputs": [
    {
     "data": {
      "text/plain": [
       "0      False\n",
       "1      False\n",
       "2      False\n",
       "4      False\n",
       "5      False\n",
       "6       True\n",
       "9      False\n",
       "10     False\n",
       "11     False\n",
       "13     False\n",
       "14     False\n",
       "15     False\n",
       "16     False\n",
       "17     False\n",
       "18     False\n",
       "20     False\n",
       "21     False\n",
       "22     False\n",
       "24     False\n",
       "26     False\n",
       "28     False\n",
       "29     False\n",
       "30     False\n",
       "31     False\n",
       "32     False\n",
       "34     False\n",
       "36     False\n",
       "38     False\n",
       "40     False\n",
       "41     False\n",
       "       ...  \n",
       "893    False\n",
       "894    False\n",
       "895    False\n",
       "896    False\n",
       "897    False\n",
       "898    False\n",
       "899    False\n",
       "900    False\n",
       "901    False\n",
       "902    False\n",
       "903    False\n",
       "904    False\n",
       "905    False\n",
       "906    False\n",
       "907    False\n",
       "908    False\n",
       "909    False\n",
       "910    False\n",
       "911    False\n",
       "912    False\n",
       "913    False\n",
       "917    False\n",
       "918    False\n",
       "919    False\n",
       "920    False\n",
       "921    False\n",
       "922    False\n",
       "923    False\n",
       "924    False\n",
       "925    False\n",
       "Name: Name, Length: 809, dtype: bool"
      ]
     },
     "execution_count": 36,
     "metadata": {},
     "output_type": "execute_result"
    }
   ],
   "source": [
    "without_duplicates['Name']==\"Charizard\""
   ]
  },
  {
   "cell_type": "markdown",
   "metadata": {},
   "source": [
    "#### Step 2.4"
   ]
  },
  {
   "cell_type": "code",
   "execution_count": 37,
   "metadata": {},
   "outputs": [],
   "source": [
    "pok_df[\"sample\"] =((pok_df[\"ID Number\"]%4)==0).astype(int) # adding column sample which acts as dummy variable giving 1 for ppokemon which has ID number as multiple of 4"
   ]
  },
  {
   "cell_type": "code",
   "execution_count": 38,
   "metadata": {},
   "outputs": [
    {
     "name": "stderr",
     "output_type": "stream",
     "text": [
      "C:\\Users\\sushi\\AppData\\Local\\Continuum\\anaconda3\\lib\\site-packages\\ipykernel_launcher.py:1: SettingWithCopyWarning: \n",
      "A value is trying to be set on a copy of a slice from a DataFrame.\n",
      "Try using .loc[row_indexer,col_indexer] = value instead\n",
      "\n",
      "See the caveats in the documentation: http://pandas.pydata.org/pandas-docs/stable/indexing.html#indexing-view-versus-copy\n",
      "  \"\"\"Entry point for launching an IPython kernel.\n"
     ]
    }
   ],
   "source": [
    "without_duplicates[\"sample\"] =((pok_df[\"ID Number\"]%4)==0).astype(int) # adding column sample which acts as dummy variable giving 1 for ppokemon which has ID number as multiple of 4"
   ]
  },
  {
   "cell_type": "code",
   "execution_count": 39,
   "metadata": {},
   "outputs": [
    {
     "data": {
      "text/html": [
       "<div>\n",
       "<style scoped>\n",
       "    .dataframe tbody tr th:only-of-type {\n",
       "        vertical-align: middle;\n",
       "    }\n",
       "\n",
       "    .dataframe tbody tr th {\n",
       "        vertical-align: top;\n",
       "    }\n",
       "\n",
       "    .dataframe thead th {\n",
       "        text-align: right;\n",
       "    }\n",
       "</style>\n",
       "<table border=\"1\" class=\"dataframe\">\n",
       "  <thead>\n",
       "    <tr style=\"text-align: right;\">\n",
       "      <th></th>\n",
       "      <th>ID Number</th>\n",
       "      <th>Name</th>\n",
       "      <th>URL</th>\n",
       "      <th>Type/s</th>\n",
       "      <th>Total points</th>\n",
       "      <th>HP</th>\n",
       "      <th>Attack</th>\n",
       "      <th>Defense</th>\n",
       "      <th>Sp. Atk</th>\n",
       "      <th>Sp. Def</th>\n",
       "      <th>Speed</th>\n",
       "      <th>sample</th>\n",
       "    </tr>\n",
       "  </thead>\n",
       "  <tbody>\n",
       "    <tr>\n",
       "      <th>0</th>\n",
       "      <td>1</td>\n",
       "      <td>Bulbasaur</td>\n",
       "      <td>https://pokemondb.net/pokedex/bulbasaur</td>\n",
       "      <td>[Grass, Poison]</td>\n",
       "      <td>318</td>\n",
       "      <td>45</td>\n",
       "      <td>49</td>\n",
       "      <td>49</td>\n",
       "      <td>65</td>\n",
       "      <td>65</td>\n",
       "      <td>45</td>\n",
       "      <td>0</td>\n",
       "    </tr>\n",
       "    <tr>\n",
       "      <th>1</th>\n",
       "      <td>2</td>\n",
       "      <td>Ivysaur</td>\n",
       "      <td>https://pokemondb.net/pokedex/ivysaur</td>\n",
       "      <td>[Grass, Poison]</td>\n",
       "      <td>405</td>\n",
       "      <td>60</td>\n",
       "      <td>62</td>\n",
       "      <td>63</td>\n",
       "      <td>80</td>\n",
       "      <td>80</td>\n",
       "      <td>60</td>\n",
       "      <td>0</td>\n",
       "    </tr>\n",
       "    <tr>\n",
       "      <th>2</th>\n",
       "      <td>3</td>\n",
       "      <td>Venusaur</td>\n",
       "      <td>https://pokemondb.net/pokedex/venusaur</td>\n",
       "      <td>[Grass, Poison]</td>\n",
       "      <td>525</td>\n",
       "      <td>80</td>\n",
       "      <td>82</td>\n",
       "      <td>83</td>\n",
       "      <td>100</td>\n",
       "      <td>100</td>\n",
       "      <td>80</td>\n",
       "      <td>0</td>\n",
       "    </tr>\n",
       "    <tr>\n",
       "      <th>3</th>\n",
       "      <td>3</td>\n",
       "      <td>Venusaur</td>\n",
       "      <td>https://pokemondb.net/pokedex/venusaur</td>\n",
       "      <td>[Grass, Poison]</td>\n",
       "      <td>625</td>\n",
       "      <td>80</td>\n",
       "      <td>100</td>\n",
       "      <td>123</td>\n",
       "      <td>122</td>\n",
       "      <td>120</td>\n",
       "      <td>80</td>\n",
       "      <td>0</td>\n",
       "    </tr>\n",
       "    <tr>\n",
       "      <th>4</th>\n",
       "      <td>4</td>\n",
       "      <td>Charmander</td>\n",
       "      <td>https://pokemondb.net/pokedex/charmander</td>\n",
       "      <td>[Fire]</td>\n",
       "      <td>309</td>\n",
       "      <td>39</td>\n",
       "      <td>52</td>\n",
       "      <td>43</td>\n",
       "      <td>60</td>\n",
       "      <td>50</td>\n",
       "      <td>65</td>\n",
       "      <td>1</td>\n",
       "    </tr>\n",
       "  </tbody>\n",
       "</table>\n",
       "</div>"
      ],
      "text/plain": [
       "   ID Number        Name                                       URL  \\\n",
       "0          1   Bulbasaur   https://pokemondb.net/pokedex/bulbasaur   \n",
       "1          2     Ivysaur     https://pokemondb.net/pokedex/ivysaur   \n",
       "2          3    Venusaur    https://pokemondb.net/pokedex/venusaur   \n",
       "3          3    Venusaur    https://pokemondb.net/pokedex/venusaur   \n",
       "4          4  Charmander  https://pokemondb.net/pokedex/charmander   \n",
       "\n",
       "            Type/s  Total points  HP  Attack  Defense  Sp. Atk  Sp. Def  \\\n",
       "0  [Grass, Poison]           318  45      49       49       65       65   \n",
       "1  [Grass, Poison]           405  60      62       63       80       80   \n",
       "2  [Grass, Poison]           525  80      82       83      100      100   \n",
       "3  [Grass, Poison]           625  80     100      123      122      120   \n",
       "4           [Fire]           309  39      52       43       60       50   \n",
       "\n",
       "   Speed  sample  \n",
       "0     45       0  \n",
       "1     60       0  \n",
       "2     80       0  \n",
       "3     80       0  \n",
       "4     65       1  "
      ]
     },
     "execution_count": 39,
     "metadata": {},
     "output_type": "execute_result"
    }
   ],
   "source": [
    "pok_df.head() #displaying with duplicates dataframe with sample dummy variable"
   ]
  },
  {
   "cell_type": "code",
   "execution_count": 40,
   "metadata": {},
   "outputs": [
    {
     "data": {
      "text/html": [
       "<div>\n",
       "<style scoped>\n",
       "    .dataframe tbody tr th:only-of-type {\n",
       "        vertical-align: middle;\n",
       "    }\n",
       "\n",
       "    .dataframe tbody tr th {\n",
       "        vertical-align: top;\n",
       "    }\n",
       "\n",
       "    .dataframe thead th {\n",
       "        text-align: right;\n",
       "    }\n",
       "</style>\n",
       "<table border=\"1\" class=\"dataframe\">\n",
       "  <thead>\n",
       "    <tr style=\"text-align: right;\">\n",
       "      <th></th>\n",
       "      <th>ID Number</th>\n",
       "      <th>Name</th>\n",
       "      <th>URL</th>\n",
       "      <th>Type/s</th>\n",
       "      <th>Total points</th>\n",
       "      <th>HP</th>\n",
       "      <th>Attack</th>\n",
       "      <th>Defense</th>\n",
       "      <th>Sp. Atk</th>\n",
       "      <th>Sp. Def</th>\n",
       "      <th>Speed</th>\n",
       "      <th>sample</th>\n",
       "    </tr>\n",
       "  </thead>\n",
       "  <tbody>\n",
       "    <tr>\n",
       "      <th>0</th>\n",
       "      <td>1</td>\n",
       "      <td>Bulbasaur</td>\n",
       "      <td>https://pokemondb.net/pokedex/bulbasaur</td>\n",
       "      <td>[Grass, Poison]</td>\n",
       "      <td>318</td>\n",
       "      <td>45</td>\n",
       "      <td>49</td>\n",
       "      <td>49</td>\n",
       "      <td>65</td>\n",
       "      <td>65</td>\n",
       "      <td>45</td>\n",
       "      <td>0</td>\n",
       "    </tr>\n",
       "    <tr>\n",
       "      <th>1</th>\n",
       "      <td>2</td>\n",
       "      <td>Ivysaur</td>\n",
       "      <td>https://pokemondb.net/pokedex/ivysaur</td>\n",
       "      <td>[Grass, Poison]</td>\n",
       "      <td>405</td>\n",
       "      <td>60</td>\n",
       "      <td>62</td>\n",
       "      <td>63</td>\n",
       "      <td>80</td>\n",
       "      <td>80</td>\n",
       "      <td>60</td>\n",
       "      <td>0</td>\n",
       "    </tr>\n",
       "    <tr>\n",
       "      <th>2</th>\n",
       "      <td>3</td>\n",
       "      <td>Venusaur</td>\n",
       "      <td>https://pokemondb.net/pokedex/venusaur</td>\n",
       "      <td>[Grass, Poison]</td>\n",
       "      <td>525</td>\n",
       "      <td>80</td>\n",
       "      <td>82</td>\n",
       "      <td>83</td>\n",
       "      <td>100</td>\n",
       "      <td>100</td>\n",
       "      <td>80</td>\n",
       "      <td>0</td>\n",
       "    </tr>\n",
       "    <tr>\n",
       "      <th>4</th>\n",
       "      <td>4</td>\n",
       "      <td>Charmander</td>\n",
       "      <td>https://pokemondb.net/pokedex/charmander</td>\n",
       "      <td>[Fire]</td>\n",
       "      <td>309</td>\n",
       "      <td>39</td>\n",
       "      <td>52</td>\n",
       "      <td>43</td>\n",
       "      <td>60</td>\n",
       "      <td>50</td>\n",
       "      <td>65</td>\n",
       "      <td>1</td>\n",
       "    </tr>\n",
       "    <tr>\n",
       "      <th>5</th>\n",
       "      <td>5</td>\n",
       "      <td>Charmeleon</td>\n",
       "      <td>https://pokemondb.net/pokedex/charmeleon</td>\n",
       "      <td>[Fire]</td>\n",
       "      <td>405</td>\n",
       "      <td>58</td>\n",
       "      <td>64</td>\n",
       "      <td>58</td>\n",
       "      <td>80</td>\n",
       "      <td>65</td>\n",
       "      <td>80</td>\n",
       "      <td>0</td>\n",
       "    </tr>\n",
       "  </tbody>\n",
       "</table>\n",
       "</div>"
      ],
      "text/plain": [
       "   ID Number        Name                                       URL  \\\n",
       "0          1   Bulbasaur   https://pokemondb.net/pokedex/bulbasaur   \n",
       "1          2     Ivysaur     https://pokemondb.net/pokedex/ivysaur   \n",
       "2          3    Venusaur    https://pokemondb.net/pokedex/venusaur   \n",
       "4          4  Charmander  https://pokemondb.net/pokedex/charmander   \n",
       "5          5  Charmeleon  https://pokemondb.net/pokedex/charmeleon   \n",
       "\n",
       "            Type/s  Total points  HP  Attack  Defense  Sp. Atk  Sp. Def  \\\n",
       "0  [Grass, Poison]           318  45      49       49       65       65   \n",
       "1  [Grass, Poison]           405  60      62       63       80       80   \n",
       "2  [Grass, Poison]           525  80      82       83      100      100   \n",
       "4           [Fire]           309  39      52       43       60       50   \n",
       "5           [Fire]           405  58      64       58       80       65   \n",
       "\n",
       "   Speed  sample  \n",
       "0     45       0  \n",
       "1     60       0  \n",
       "2     80       0  \n",
       "4     65       1  \n",
       "5     80       0  "
      ]
     },
     "execution_count": 40,
     "metadata": {},
     "output_type": "execute_result"
    }
   ],
   "source": [
    "without_duplicates.head() #displaying without duplicates dataframe with sample dummy variable"
   ]
  },
  {
   "cell_type": "code",
   "execution_count": 41,
   "metadata": {},
   "outputs": [],
   "source": [
    "sample_df = without_duplicates[without_duplicates['sample']==1] #selecting only the rows with sample column value as 1 and adding it to new dataframe sample_df"
   ]
  },
  {
   "cell_type": "code",
   "execution_count": 42,
   "metadata": {},
   "outputs": [
    {
     "data": {
      "text/html": [
       "<div>\n",
       "<style scoped>\n",
       "    .dataframe tbody tr th:only-of-type {\n",
       "        vertical-align: middle;\n",
       "    }\n",
       "\n",
       "    .dataframe tbody tr th {\n",
       "        vertical-align: top;\n",
       "    }\n",
       "\n",
       "    .dataframe thead th {\n",
       "        text-align: right;\n",
       "    }\n",
       "</style>\n",
       "<table border=\"1\" class=\"dataframe\">\n",
       "  <thead>\n",
       "    <tr style=\"text-align: right;\">\n",
       "      <th></th>\n",
       "      <th>ID Number</th>\n",
       "      <th>Name</th>\n",
       "      <th>URL</th>\n",
       "      <th>Type/s</th>\n",
       "      <th>Total points</th>\n",
       "      <th>HP</th>\n",
       "      <th>Attack</th>\n",
       "      <th>Defense</th>\n",
       "      <th>Sp. Atk</th>\n",
       "      <th>Sp. Def</th>\n",
       "      <th>Speed</th>\n",
       "      <th>sample</th>\n",
       "    </tr>\n",
       "  </thead>\n",
       "  <tbody>\n",
       "    <tr>\n",
       "      <th>4</th>\n",
       "      <td>4</td>\n",
       "      <td>Charmander</td>\n",
       "      <td>https://pokemondb.net/pokedex/charmander</td>\n",
       "      <td>[Fire]</td>\n",
       "      <td>309</td>\n",
       "      <td>39</td>\n",
       "      <td>52</td>\n",
       "      <td>43</td>\n",
       "      <td>60</td>\n",
       "      <td>50</td>\n",
       "      <td>65</td>\n",
       "      <td>1</td>\n",
       "    </tr>\n",
       "    <tr>\n",
       "      <th>10</th>\n",
       "      <td>8</td>\n",
       "      <td>Wartortle</td>\n",
       "      <td>https://pokemondb.net/pokedex/wartortle</td>\n",
       "      <td>[Water]</td>\n",
       "      <td>405</td>\n",
       "      <td>59</td>\n",
       "      <td>63</td>\n",
       "      <td>80</td>\n",
       "      <td>65</td>\n",
       "      <td>80</td>\n",
       "      <td>58</td>\n",
       "      <td>1</td>\n",
       "    </tr>\n",
       "    <tr>\n",
       "      <th>15</th>\n",
       "      <td>12</td>\n",
       "      <td>Butterfree</td>\n",
       "      <td>https://pokemondb.net/pokedex/butterfree</td>\n",
       "      <td>[Bug, Flying]</td>\n",
       "      <td>395</td>\n",
       "      <td>60</td>\n",
       "      <td>45</td>\n",
       "      <td>50</td>\n",
       "      <td>90</td>\n",
       "      <td>80</td>\n",
       "      <td>70</td>\n",
       "      <td>1</td>\n",
       "    </tr>\n",
       "    <tr>\n",
       "      <th>20</th>\n",
       "      <td>16</td>\n",
       "      <td>Pidgey</td>\n",
       "      <td>https://pokemondb.net/pokedex/pidgey</td>\n",
       "      <td>[Normal, Flying]</td>\n",
       "      <td>251</td>\n",
       "      <td>40</td>\n",
       "      <td>45</td>\n",
       "      <td>40</td>\n",
       "      <td>35</td>\n",
       "      <td>35</td>\n",
       "      <td>56</td>\n",
       "      <td>1</td>\n",
       "    </tr>\n",
       "    <tr>\n",
       "      <th>26</th>\n",
       "      <td>20</td>\n",
       "      <td>Raticate</td>\n",
       "      <td>https://pokemondb.net/pokedex/raticate</td>\n",
       "      <td>[Normal]</td>\n",
       "      <td>413</td>\n",
       "      <td>55</td>\n",
       "      <td>81</td>\n",
       "      <td>60</td>\n",
       "      <td>50</td>\n",
       "      <td>70</td>\n",
       "      <td>97</td>\n",
       "      <td>1</td>\n",
       "    </tr>\n",
       "  </tbody>\n",
       "</table>\n",
       "</div>"
      ],
      "text/plain": [
       "    ID Number        Name                                       URL  \\\n",
       "4           4  Charmander  https://pokemondb.net/pokedex/charmander   \n",
       "10          8   Wartortle   https://pokemondb.net/pokedex/wartortle   \n",
       "15         12  Butterfree  https://pokemondb.net/pokedex/butterfree   \n",
       "20         16      Pidgey      https://pokemondb.net/pokedex/pidgey   \n",
       "26         20    Raticate    https://pokemondb.net/pokedex/raticate   \n",
       "\n",
       "              Type/s  Total points  HP  Attack  Defense  Sp. Atk  Sp. Def  \\\n",
       "4             [Fire]           309  39      52       43       60       50   \n",
       "10           [Water]           405  59      63       80       65       80   \n",
       "15     [Bug, Flying]           395  60      45       50       90       80   \n",
       "20  [Normal, Flying]           251  40      45       40       35       35   \n",
       "26          [Normal]           413  55      81       60       50       70   \n",
       "\n",
       "    Speed  sample  \n",
       "4      65       1  \n",
       "10     58       1  \n",
       "15     70       1  \n",
       "20     56       1  \n",
       "26     97       1  "
      ]
     },
     "execution_count": 42,
     "metadata": {},
     "output_type": "execute_result"
    }
   ],
   "source": [
    "sample_df.head()"
   ]
  },
  {
   "cell_type": "markdown",
   "metadata": {},
   "source": [
    "### Exercise #3"
   ]
  },
  {
   "cell_type": "markdown",
   "metadata": {},
   "source": [
    "#### Step 3.1"
   ]
  },
  {
   "cell_type": "code",
   "execution_count": 1,
   "metadata": {},
   "outputs": [],
   "source": [
    "#pokemondb_values_list\n",
    "#commenting out as it is a big text file"
   ]
  },
  {
   "cell_type": "code",
   "execution_count": 50,
   "metadata": {},
   "outputs": [
    {
     "data": {
      "text/plain": [
       "<tr>\n",
       "<td class=\"cell-num cell-fixed\" data-sort-value=\"1\"><span class=\"infocard-cell-img\"><span class=\"img-fixed icon-pkmn\" data-alt=\"Bulbasaur icon\" data-src=\"https://img.pokemondb.net/sprites/sun-moon/icon/bulbasaur.png\"></span></span><span class=\"infocard-cell-data\">001</span></td> <td class=\"cell-name\"><a class=\"ent-name\" href=\"/pokedex/bulbasaur\" title=\"View pokedex for #001 Bulbasaur\">Bulbasaur</a></td><td class=\"cell-icon\"><a class=\"type-icon type-grass\" href=\"/type/grass\">Grass</a><br/> <a class=\"type-icon type-poison\" href=\"/type/poison\">Poison</a></td>\n",
       "<td class=\"cell-total\">318</td>\n",
       "<td class=\"cell-num\">45</td>\n",
       "<td class=\"cell-num\">49</td>\n",
       "<td class=\"cell-num\">49</td>\n",
       "<td class=\"cell-num\">65</td>\n",
       "<td class=\"cell-num\">65</td>\n",
       "<td class=\"cell-num\">45</td>\n",
       "</tr>"
      ]
     },
     "execution_count": 50,
     "metadata": {},
     "output_type": "execute_result"
    }
   ],
   "source": [
    "row1"
   ]
  },
  {
   "cell_type": "code",
   "execution_count": 51,
   "metadata": {},
   "outputs": [
    {
     "data": {
      "text/plain": [
       "'https://pokemondb.net/pokedex/bulbasaur'"
      ]
     },
     "execution_count": 51,
     "metadata": {},
     "output_type": "execute_result"
    }
   ],
   "source": [
    "link_data_row1"
   ]
  },
  {
   "cell_type": "code",
   "execution_count": 43,
   "metadata": {},
   "outputs": [],
   "source": [
    "row1=pokemondb_values_list[1]   #here, i am trying to get image by first going into table values of dataframe with duplicates using row number    \n",
    "url_data_row1= row1.find(href= True) #here, i am getting url for the mentioned row number pokemon\n",
    "link_data_row1 = \"https://pokemondb.net\"+str(url_data_row1['href']) #here, i am attaching particular pokemon url to general form\n",
    "pokemon_data1=link_data_row1\n",
    "image_name=str.lower(row1.find(name=\"a\", class_=\"ent-name\").text) #lower casing the name\n",
    "name = image_name.capitalize()"
   ]
  },
  {
   "cell_type": "code",
   "execution_count": 44,
   "metadata": {
    "scrolled": true
   },
   "outputs": [
    {
     "data": {
      "text/plain": [
       "'https://pokemondb.net/pokedex/bulbasaur'"
      ]
     },
     "execution_count": 44,
     "metadata": {},
     "output_type": "execute_result"
    }
   ],
   "source": [
    "pokemon_data1"
   ]
  },
  {
   "cell_type": "code",
   "execution_count": 45,
   "metadata": {},
   "outputs": [
    {
     "data": {
      "text/plain": [
       "<Response [200]>"
      ]
     },
     "execution_count": 45,
     "metadata": {},
     "output_type": "execute_result"
    }
   ],
   "source": [
    "#Getting data from the pokemon page \n",
    "imageurl = pokemon_data1\n",
    "# Issue a simple HTTP request to get the webpage text\n",
    "imageurl_page = requests.get(imageurl)\n",
    "# Response code is returned\n",
    "imageurl_page"
   ]
  },
  {
   "cell_type": "code",
   "execution_count": 46,
   "metadata": {},
   "outputs": [],
   "source": [
    "#parsing with BeautifulSoup library\n",
    "imageurl_page_soup = BeautifulSoup(imageurl_page.text, 'html.parser')"
   ]
  },
  {
   "cell_type": "code",
   "execution_count": 47,
   "metadata": {},
   "outputs": [],
   "source": [
    "def image1(name1):\n",
    "    name2=\"https://img.pokemondb.net/artwork/\"+name1+\".jpg\"\n",
    "    pokemon_image1 = imageurl_page_soup.find_all(name=\"img\",src=name2)\n",
    "    length1=len(pokemon_image1)\n",
    "    loop = []\n",
    "    for i in range(length1):\n",
    "        final_image=pokemon_image1[i]\n",
    "        final_image1=final_image[\"src\"]\n",
    "        loop.append(final_image1)\n",
    "    return loop"
   ]
  },
  {
   "cell_type": "code",
   "execution_count": 48,
   "metadata": {},
   "outputs": [],
   "source": [
    "from IPython.display import Image\n",
    "from IPython.core.display import HTML"
   ]
  },
  {
   "cell_type": "code",
   "execution_count": 49,
   "metadata": {},
   "outputs": [
    {
     "name": "stdout",
     "output_type": "stream",
     "text": [
      "https://img.pokemondb.net/artwork/bulbasaur.jpg\n"
     ]
    },
    {
     "data": {
      "text/html": [
       "<img src=\"https://img.pokemondb.net/artwork/bulbasaur.jpg\" class=\"unconfined\"/>"
      ],
      "text/plain": [
       "<IPython.core.display.Image object>"
      ]
     },
     "metadata": {},
     "output_type": "display_data"
    }
   ],
   "source": [
    "#source = \"https://img.pokemondb.net/artwork/large/\"+image_name+\".jpg\"\n",
    "ans1 = image1(image_name)\n",
    "lengthtry=len(ans1)\n",
    "for i in range(lengthtry):\n",
    "    print(ans1[i])\n",
    "    display(Image(url=ans1[i], unconfined=True))"
   ]
  },
  {
   "cell_type": "markdown",
   "metadata": {},
   "source": [
    "#### Step 3.2"
   ]
  },
  {
   "cell_type": "code",
   "execution_count": 53,
   "metadata": {},
   "outputs": [
    {
     "data": {
      "text/plain": [
       "'https://pokemondb.net/pokedex/bulbasaur'"
      ]
     },
     "execution_count": 53,
     "metadata": {},
     "output_type": "execute_result"
    }
   ],
   "source": [
    "pokemon_data1"
   ]
  },
  {
   "cell_type": "code",
   "execution_count": 701,
   "metadata": {},
   "outputs": [],
   "source": [
    "tables = pd.read_html(requests.get(pokemon_data1, headers={'User-agent': 'Mozilla/5.0'}).text)"
   ]
  },
  {
   "cell_type": "code",
   "execution_count": 702,
   "metadata": {},
   "outputs": [],
   "source": [
    "table_desired=pd.DataFrame(tables[15]) #using index 15 to extract the required table"
   ]
  },
  {
   "cell_type": "code",
   "execution_count": 695,
   "metadata": {},
   "outputs": [
    {
     "data": {
      "text/html": [
       "<div>\n",
       "<style scoped>\n",
       "    .dataframe tbody tr th:only-of-type {\n",
       "        vertical-align: middle;\n",
       "    }\n",
       "\n",
       "    .dataframe tbody tr th {\n",
       "        vertical-align: top;\n",
       "    }\n",
       "\n",
       "    .dataframe thead th {\n",
       "        text-align: right;\n",
       "    }\n",
       "</style>\n",
       "<table border=\"1\" class=\"dataframe\">\n",
       "  <thead>\n",
       "    <tr style=\"text-align: right;\">\n",
       "      <th></th>\n",
       "      <th>0</th>\n",
       "      <th>1</th>\n",
       "    </tr>\n",
       "  </thead>\n",
       "  <tbody>\n",
       "    <tr>\n",
       "      <th>0</th>\n",
       "      <td>RedBlue</td>\n",
       "      <td>Pallet Town</td>\n",
       "    </tr>\n",
       "    <tr>\n",
       "      <th>1</th>\n",
       "      <td>Yellow</td>\n",
       "      <td>Cerulean City</td>\n",
       "    </tr>\n",
       "    <tr>\n",
       "      <th>2</th>\n",
       "      <td>GoldSilverCrystal</td>\n",
       "      <td>Trade/migrate from another game</td>\n",
       "    </tr>\n",
       "    <tr>\n",
       "      <th>3</th>\n",
       "      <td>RubySapphire</td>\n",
       "      <td>Trade/migrate from another game</td>\n",
       "    </tr>\n",
       "    <tr>\n",
       "      <th>4</th>\n",
       "      <td>FireRedLeafGreen</td>\n",
       "      <td>Pallet Town</td>\n",
       "    </tr>\n",
       "  </tbody>\n",
       "</table>\n",
       "</div>"
      ],
      "text/plain": [
       "                   0                                1\n",
       "0            RedBlue                      Pallet Town\n",
       "1             Yellow                    Cerulean City\n",
       "2  GoldSilverCrystal  Trade/migrate from another game\n",
       "3       RubySapphire  Trade/migrate from another game\n",
       "4   FireRedLeafGreen                      Pallet Town"
      ]
     },
     "execution_count": 695,
     "metadata": {},
     "output_type": "execute_result"
    }
   ],
   "source": [
    "table_desired.head()"
   ]
  },
  {
   "cell_type": "markdown",
   "metadata": {},
   "source": [
    "#### Step 3.3"
   ]
  },
  {
   "cell_type": "code",
   "execution_count": 703,
   "metadata": {},
   "outputs": [
    {
     "data": {
      "text/html": [
       "<div>\n",
       "<style scoped>\n",
       "    .dataframe tbody tr th:only-of-type {\n",
       "        vertical-align: middle;\n",
       "    }\n",
       "\n",
       "    .dataframe tbody tr th {\n",
       "        vertical-align: top;\n",
       "    }\n",
       "\n",
       "    .dataframe thead th {\n",
       "        text-align: right;\n",
       "    }\n",
       "</style>\n",
       "<table border=\"1\" class=\"dataframe\">\n",
       "  <thead>\n",
       "    <tr style=\"text-align: right;\">\n",
       "      <th></th>\n",
       "      <th>0</th>\n",
       "      <th>1</th>\n",
       "      <th>2</th>\n",
       "      <th>3</th>\n",
       "      <th>4</th>\n",
       "      <th>5</th>\n",
       "      <th>6</th>\n",
       "      <th>7</th>\n",
       "      <th>8</th>\n",
       "      <th>9</th>\n",
       "      <th>10</th>\n",
       "      <th>11</th>\n",
       "      <th>12</th>\n",
       "      <th>13</th>\n",
       "    </tr>\n",
       "  </thead>\n",
       "  <tbody>\n",
       "    <tr>\n",
       "      <th>0</th>\n",
       "      <td>RedBlue</td>\n",
       "      <td>Yellow</td>\n",
       "      <td>GoldSilverCrystal</td>\n",
       "      <td>RubySapphire</td>\n",
       "      <td>FireRedLeafGreen</td>\n",
       "      <td>Emerald</td>\n",
       "      <td>DiamondPearlPlatinum</td>\n",
       "      <td>HeartGoldSoulSilver</td>\n",
       "      <td>BlackWhiteBlack 2White 2</td>\n",
       "      <td>XY</td>\n",
       "      <td>Omega RubyAlpha Sapphire</td>\n",
       "      <td>SunMoon</td>\n",
       "      <td>Ultra SunUltra Moon</td>\n",
       "      <td>Let's Go PikachuLet's Go Eevee</td>\n",
       "    </tr>\n",
       "    <tr>\n",
       "      <th>1</th>\n",
       "      <td>Pallet Town</td>\n",
       "      <td>Cerulean City</td>\n",
       "      <td>Trade/migrate from another game</td>\n",
       "      <td>Trade/migrate from another game</td>\n",
       "      <td>Pallet Town</td>\n",
       "      <td>Trade/migrate from another game</td>\n",
       "      <td>Trade/migrate from another game</td>\n",
       "      <td>Pallet Town</td>\n",
       "      <td>Trade/migrate from another game</td>\n",
       "      <td>Lumiose City</td>\n",
       "      <td>Trade/migrate from another game</td>\n",
       "      <td>Trade/migrate from another game</td>\n",
       "      <td>Route 2</td>\n",
       "      <td>Cerulean City, Viridian Forest</td>\n",
       "    </tr>\n",
       "  </tbody>\n",
       "</table>\n",
       "</div>"
      ],
      "text/plain": [
       "            0              1                                2   \\\n",
       "0      RedBlue         Yellow                GoldSilverCrystal   \n",
       "1  Pallet Town  Cerulean City  Trade/migrate from another game   \n",
       "\n",
       "                                3                 4   \\\n",
       "0                     RubySapphire  FireRedLeafGreen   \n",
       "1  Trade/migrate from another game       Pallet Town   \n",
       "\n",
       "                                5                                6   \\\n",
       "0                          Emerald             DiamondPearlPlatinum   \n",
       "1  Trade/migrate from another game  Trade/migrate from another game   \n",
       "\n",
       "                    7                                8             9   \\\n",
       "0  HeartGoldSoulSilver         BlackWhiteBlack 2White 2            XY   \n",
       "1          Pallet Town  Trade/migrate from another game  Lumiose City   \n",
       "\n",
       "                                10                               11  \\\n",
       "0         Omega RubyAlpha Sapphire                          SunMoon   \n",
       "1  Trade/migrate from another game  Trade/migrate from another game   \n",
       "\n",
       "                    12                              13  \n",
       "0  Ultra SunUltra Moon  Let's Go PikachuLet's Go Eevee  \n",
       "1              Route 2  Cerulean City, Viridian Forest  "
      ]
     },
     "execution_count": 703,
     "metadata": {},
     "output_type": "execute_result"
    }
   ],
   "source": [
    "transpose=table_desired.T #using T to tranpose dataframe\n",
    "transpose"
   ]
  },
  {
   "cell_type": "markdown",
   "metadata": {},
   "source": [
    "#### Step 3.4 "
   ]
  },
  {
   "cell_type": "code",
   "execution_count": 704,
   "metadata": {},
   "outputs": [
    {
     "name": "stdout",
     "output_type": "stream",
     "text": [
      "202\n"
     ]
    }
   ],
   "source": [
    "import time\n",
    "List = []\n",
    "List = list(sample_df[\"URL\"])\n",
    "holdurl = []\n",
    "holdloc = []\n",
    "print(len(List))\n",
    "for i in List:\n",
    "    tables2 = pd.read_html(requests.get(i, headers={'User-agent': 'Mozilla/5.0'}).text)\n",
    "    time.sleep(0.001)\n",
    "    transpose1 = tables2[-2].T\n",
    "    frame=pd.DataFrame(transpose1)\n",
    "    header = frame.iloc[0]\n",
    "    \n",
    "    frame = frame[1:] #rest of data minus header\n",
    "    frame.columns = header #header row as df header\n",
    "    \n",
    "    try:                                #using try and except for Meltan\n",
    "        select = list(frame[\"XY\"])\n",
    "        holdurl.append(i)\n",
    "        holdloc.append(select)\n",
    "    except:\n",
    "        continue"
   ]
  },
  {
   "cell_type": "code",
   "execution_count": 678,
   "metadata": {},
   "outputs": [
    {
     "data": {
      "text/html": [
       "<div>\n",
       "<style scoped>\n",
       "    .dataframe tbody tr th:only-of-type {\n",
       "        vertical-align: middle;\n",
       "    }\n",
       "\n",
       "    .dataframe tbody tr th {\n",
       "        vertical-align: top;\n",
       "    }\n",
       "\n",
       "    .dataframe thead th {\n",
       "        text-align: right;\n",
       "    }\n",
       "</style>\n",
       "<table border=\"1\" class=\"dataframe\">\n",
       "  <thead>\n",
       "    <tr style=\"text-align: right;\">\n",
       "      <th></th>\n",
       "      <th>URL</th>\n",
       "      <th>XY</th>\n",
       "    </tr>\n",
       "  </thead>\n",
       "  <tbody>\n",
       "    <tr>\n",
       "      <th>0</th>\n",
       "      <td>https://pokemondb.net/pokedex/charmander</td>\n",
       "      <td>Lumiose City</td>\n",
       "    </tr>\n",
       "    <tr>\n",
       "      <th>1</th>\n",
       "      <td>https://pokemondb.net/pokedex/wartortle</td>\n",
       "      <td>Evolve Squirtle</td>\n",
       "    </tr>\n",
       "    <tr>\n",
       "      <th>2</th>\n",
       "      <td>https://pokemondb.net/pokedex/butterfree</td>\n",
       "      <td>Evolve Caterpie/Metapod</td>\n",
       "    </tr>\n",
       "    <tr>\n",
       "      <th>3</th>\n",
       "      <td>https://pokemondb.net/pokedex/pidgey</td>\n",
       "      <td>Route 2, 3</td>\n",
       "    </tr>\n",
       "    <tr>\n",
       "      <th>4</th>\n",
       "      <td>https://pokemondb.net/pokedex/raticate</td>\n",
       "      <td>Trade/migrate from another game</td>\n",
       "    </tr>\n",
       "    <tr>\n",
       "      <th>5</th>\n",
       "      <td>https://pokemondb.net/pokedex/arbok</td>\n",
       "      <td>Route 19</td>\n",
       "    </tr>\n",
       "    <tr>\n",
       "      <th>6</th>\n",
       "      <td>https://pokemondb.net/pokedex/sandslash</td>\n",
       "      <td>Route 18, Terminus Cave</td>\n",
       "    </tr>\n",
       "    <tr>\n",
       "      <th>7</th>\n",
       "      <td>https://pokemondb.net/pokedex/nidoran-m</td>\n",
       "      <td>Route 11</td>\n",
       "    </tr>\n",
       "    <tr>\n",
       "      <th>8</th>\n",
       "      <td>https://pokemondb.net/pokedex/clefable</td>\n",
       "      <td>Trade/migrate from another game</td>\n",
       "    </tr>\n",
       "    <tr>\n",
       "      <th>9</th>\n",
       "      <td>https://pokemondb.net/pokedex/gloom</td>\n",
       "      <td>Evolve Oddish</td>\n",
       "    </tr>\n",
       "    <tr>\n",
       "      <th>10</th>\n",
       "      <td>https://pokemondb.net/pokedex/venonat</td>\n",
       "      <td>Trade/migrate from another game</td>\n",
       "    </tr>\n",
       "    <tr>\n",
       "      <th>11</th>\n",
       "      <td>https://pokemondb.net/pokedex/meowth</td>\n",
       "      <td>Trade/migrate from another game</td>\n",
       "    </tr>\n",
       "    <tr>\n",
       "      <th>12</th>\n",
       "      <td>https://pokemondb.net/pokedex/mankey</td>\n",
       "      <td>Trade/migrate from another game</td>\n",
       "    </tr>\n",
       "    <tr>\n",
       "      <th>13</th>\n",
       "      <td>https://pokemondb.net/pokedex/poliwag</td>\n",
       "      <td>Route 14, 15, 16, 19, 21, Laverre City, Frost ...</td>\n",
       "    </tr>\n",
       "    <tr>\n",
       "      <th>14</th>\n",
       "      <td>https://pokemondb.net/pokedex/tentacool</td>\n",
       "      <td>Route 8, 12, Cyllage City, Ambrette Town, Shal...</td>\n",
       "    </tr>\n",
       "    <tr>\n",
       "      <th>15</th>\n",
       "      <td>https://pokemondb.net/pokedex/doduo</td>\n",
       "      <td>Route 5</td>\n",
       "    </tr>\n",
       "    <tr>\n",
       "      <th>16</th>\n",
       "      <td>https://pokemondb.net/pokedex/grimer</td>\n",
       "      <td>Trade/migrate from another game</td>\n",
       "    </tr>\n",
       "    <tr>\n",
       "      <th>17</th>\n",
       "      <td>https://pokemondb.net/pokedex/gastly</td>\n",
       "      <td>Breed Haunter/Gengar</td>\n",
       "    </tr>\n",
       "    <tr>\n",
       "      <th>18</th>\n",
       "      <td>https://pokemondb.net/pokedex/drowzee</td>\n",
       "      <td>Trade/migrate from another game</td>\n",
       "    </tr>\n",
       "    <tr>\n",
       "      <th>19</th>\n",
       "      <td>https://pokemondb.net/pokedex/voltorb</td>\n",
       "      <td>Breed Electrode</td>\n",
       "    </tr>\n",
       "    <tr>\n",
       "      <th>20</th>\n",
       "      <td>https://pokemondb.net/pokedex/cubone</td>\n",
       "      <td>Glittering Cave</td>\n",
       "    </tr>\n",
       "    <tr>\n",
       "      <th>21</th>\n",
       "      <td>https://pokemondb.net/pokedex/lickitung</td>\n",
       "      <td>Victory Road</td>\n",
       "    </tr>\n",
       "    <tr>\n",
       "      <th>22</th>\n",
       "      <td>https://pokemondb.net/pokedex/horsea</td>\n",
       "      <td>Cyllage City, Ambrette Town</td>\n",
       "    </tr>\n",
       "    <tr>\n",
       "      <th>23</th>\n",
       "      <td>https://pokemondb.net/pokedex/jynx</td>\n",
       "      <td>Frost Cavern</td>\n",
       "    </tr>\n",
       "    <tr>\n",
       "      <th>24</th>\n",
       "      <td>https://pokemondb.net/pokedex/tauros</td>\n",
       "      <td>Route 12</td>\n",
       "    </tr>\n",
       "    <tr>\n",
       "      <th>25</th>\n",
       "      <td>https://pokemondb.net/pokedex/ditto</td>\n",
       "      <td>Pokémon Village</td>\n",
       "    </tr>\n",
       "    <tr>\n",
       "      <th>26</th>\n",
       "      <td>https://pokemondb.net/pokedex/kabuto</td>\n",
       "      <td>Ambrette Town</td>\n",
       "    </tr>\n",
       "    <tr>\n",
       "      <th>27</th>\n",
       "      <td>https://pokemondb.net/pokedex/articuno</td>\n",
       "      <td>Sea Spirit's Den, Roaming Kalos</td>\n",
       "    </tr>\n",
       "    <tr>\n",
       "      <th>28</th>\n",
       "      <td>https://pokemondb.net/pokedex/dragonair</td>\n",
       "      <td>Route 21</td>\n",
       "    </tr>\n",
       "    <tr>\n",
       "      <th>29</th>\n",
       "      <td>https://pokemondb.net/pokedex/chikorita</td>\n",
       "      <td>Trade/migrate from another game</td>\n",
       "    </tr>\n",
       "    <tr>\n",
       "      <th>...</th>\n",
       "      <td>...</td>\n",
       "      <td>...</td>\n",
       "    </tr>\n",
       "    <tr>\n",
       "      <th>111</th>\n",
       "      <td>https://pokemondb.net/pokedex/tirtouga</td>\n",
       "      <td>Ambrette Town</td>\n",
       "    </tr>\n",
       "    <tr>\n",
       "      <th>112</th>\n",
       "      <td>https://pokemondb.net/pokedex/trubbish</td>\n",
       "      <td>Lost Hotel</td>\n",
       "    </tr>\n",
       "    <tr>\n",
       "      <th>113</th>\n",
       "      <td>https://pokemondb.net/pokedex/minccino</td>\n",
       "      <td>Trade/migrate from another game</td>\n",
       "    </tr>\n",
       "    <tr>\n",
       "      <th>114</th>\n",
       "      <td>https://pokemondb.net/pokedex/ducklett</td>\n",
       "      <td>Route 7</td>\n",
       "    </tr>\n",
       "    <tr>\n",
       "      <th>115</th>\n",
       "      <td>https://pokemondb.net/pokedex/vanilluxe</td>\n",
       "      <td>Evolve Vanillite/Vanillish</td>\n",
       "    </tr>\n",
       "    <tr>\n",
       "      <th>116</th>\n",
       "      <td>https://pokemondb.net/pokedex/karrablast</td>\n",
       "      <td>Route 14, 19</td>\n",
       "    </tr>\n",
       "    <tr>\n",
       "      <th>117</th>\n",
       "      <td>https://pokemondb.net/pokedex/frillish</td>\n",
       "      <td>Trade/migrate from another game</td>\n",
       "    </tr>\n",
       "    <tr>\n",
       "      <th>118</th>\n",
       "      <td>https://pokemondb.net/pokedex/galvantula</td>\n",
       "      <td>Trade/migrate from another game</td>\n",
       "    </tr>\n",
       "    <tr>\n",
       "      <th>119</th>\n",
       "      <td>https://pokemondb.net/pokedex/klang</td>\n",
       "      <td>Trade/migrate from another game</td>\n",
       "    </tr>\n",
       "    <tr>\n",
       "      <th>120</th>\n",
       "      <td>https://pokemondb.net/pokedex/eelektross</td>\n",
       "      <td>Trade/migrate from another game</td>\n",
       "    </tr>\n",
       "    <tr>\n",
       "      <th>121</th>\n",
       "      <td>https://pokemondb.net/pokedex/lampent</td>\n",
       "      <td>Evolve Litwick</td>\n",
       "    </tr>\n",
       "    <tr>\n",
       "      <th>122</th>\n",
       "      <td>https://pokemondb.net/pokedex/shelmet</td>\n",
       "      <td>Route 14, 19</td>\n",
       "    </tr>\n",
       "    <tr>\n",
       "      <th>123</th>\n",
       "      <td>https://pokemondb.net/pokedex/mienshao</td>\n",
       "      <td>Evolve Mienfoo</td>\n",
       "    </tr>\n",
       "    <tr>\n",
       "      <th>124</th>\n",
       "      <td>https://pokemondb.net/pokedex/pawniard</td>\n",
       "      <td>Route 15, Lost Hotel</td>\n",
       "    </tr>\n",
       "    <tr>\n",
       "      <th>125</th>\n",
       "      <td>https://pokemondb.net/pokedex/braviary</td>\n",
       "      <td>Trade/migrate from another game</td>\n",
       "    </tr>\n",
       "    <tr>\n",
       "      <th>126</th>\n",
       "      <td>https://pokemondb.net/pokedex/durant</td>\n",
       "      <td>Route 18, Terminus Cave</td>\n",
       "    </tr>\n",
       "    <tr>\n",
       "      <th>127</th>\n",
       "      <td>https://pokemondb.net/pokedex/larvesta</td>\n",
       "      <td>Trade/migrate from another game</td>\n",
       "    </tr>\n",
       "    <tr>\n",
       "      <th>128</th>\n",
       "      <td>https://pokemondb.net/pokedex/virizion</td>\n",
       "      <td>Trade/migrate from another game</td>\n",
       "    </tr>\n",
       "    <tr>\n",
       "      <th>129</th>\n",
       "      <td>https://pokemondb.net/pokedex/chesnaught</td>\n",
       "      <td>Evolve Chespin/Quilladin</td>\n",
       "    </tr>\n",
       "    <tr>\n",
       "      <th>130</th>\n",
       "      <td>https://pokemondb.net/pokedex/froakie</td>\n",
       "      <td>Vaniville Town, Aquacorde Town</td>\n",
       "    </tr>\n",
       "    <tr>\n",
       "      <th>131</th>\n",
       "      <td>https://pokemondb.net/pokedex/diggersby</td>\n",
       "      <td>Route 22</td>\n",
       "    </tr>\n",
       "    <tr>\n",
       "      <th>132</th>\n",
       "      <td>https://pokemondb.net/pokedex/scatterbug</td>\n",
       "      <td>Route 2, Santalune Forest</td>\n",
       "    </tr>\n",
       "    <tr>\n",
       "      <th>133</th>\n",
       "      <td>https://pokemondb.net/pokedex/pyroar</td>\n",
       "      <td>Evolve Litleo</td>\n",
       "    </tr>\n",
       "    <tr>\n",
       "      <th>134</th>\n",
       "      <td>https://pokemondb.net/pokedex/skiddo</td>\n",
       "      <td>Route 5</td>\n",
       "    </tr>\n",
       "    <tr>\n",
       "      <th>135</th>\n",
       "      <td>https://pokemondb.net/pokedex/furfrou</td>\n",
       "      <td>Route 5</td>\n",
       "    </tr>\n",
       "    <tr>\n",
       "      <th>136</th>\n",
       "      <td>https://pokemondb.net/pokedex/doublade</td>\n",
       "      <td>Evolve Honedge</td>\n",
       "    </tr>\n",
       "    <tr>\n",
       "      <th>137</th>\n",
       "      <td>https://pokemondb.net/pokedex/tyrunt</td>\n",
       "      <td>Ambrette Town</td>\n",
       "    </tr>\n",
       "    <tr>\n",
       "      <th>138</th>\n",
       "      <td>https://pokemondb.net/pokedex/goomy</td>\n",
       "      <td>Route 14</td>\n",
       "    </tr>\n",
       "    <tr>\n",
       "      <th>139</th>\n",
       "      <td>https://pokemondb.net/pokedex/phantump</td>\n",
       "      <td>Route 16</td>\n",
       "    </tr>\n",
       "    <tr>\n",
       "      <th>140</th>\n",
       "      <td>https://pokemondb.net/pokedex/bergmite</td>\n",
       "      <td>Frost Cavern</td>\n",
       "    </tr>\n",
       "  </tbody>\n",
       "</table>\n",
       "<p>141 rows × 2 columns</p>\n",
       "</div>"
      ],
      "text/plain": [
       "                                          URL  \\\n",
       "0    https://pokemondb.net/pokedex/charmander   \n",
       "1     https://pokemondb.net/pokedex/wartortle   \n",
       "2    https://pokemondb.net/pokedex/butterfree   \n",
       "3        https://pokemondb.net/pokedex/pidgey   \n",
       "4      https://pokemondb.net/pokedex/raticate   \n",
       "5         https://pokemondb.net/pokedex/arbok   \n",
       "6     https://pokemondb.net/pokedex/sandslash   \n",
       "7     https://pokemondb.net/pokedex/nidoran-m   \n",
       "8      https://pokemondb.net/pokedex/clefable   \n",
       "9         https://pokemondb.net/pokedex/gloom   \n",
       "10      https://pokemondb.net/pokedex/venonat   \n",
       "11       https://pokemondb.net/pokedex/meowth   \n",
       "12       https://pokemondb.net/pokedex/mankey   \n",
       "13      https://pokemondb.net/pokedex/poliwag   \n",
       "14    https://pokemondb.net/pokedex/tentacool   \n",
       "15        https://pokemondb.net/pokedex/doduo   \n",
       "16       https://pokemondb.net/pokedex/grimer   \n",
       "17       https://pokemondb.net/pokedex/gastly   \n",
       "18      https://pokemondb.net/pokedex/drowzee   \n",
       "19      https://pokemondb.net/pokedex/voltorb   \n",
       "20       https://pokemondb.net/pokedex/cubone   \n",
       "21    https://pokemondb.net/pokedex/lickitung   \n",
       "22       https://pokemondb.net/pokedex/horsea   \n",
       "23         https://pokemondb.net/pokedex/jynx   \n",
       "24       https://pokemondb.net/pokedex/tauros   \n",
       "25        https://pokemondb.net/pokedex/ditto   \n",
       "26       https://pokemondb.net/pokedex/kabuto   \n",
       "27     https://pokemondb.net/pokedex/articuno   \n",
       "28    https://pokemondb.net/pokedex/dragonair   \n",
       "29    https://pokemondb.net/pokedex/chikorita   \n",
       "..                                        ...   \n",
       "111    https://pokemondb.net/pokedex/tirtouga   \n",
       "112    https://pokemondb.net/pokedex/trubbish   \n",
       "113    https://pokemondb.net/pokedex/minccino   \n",
       "114    https://pokemondb.net/pokedex/ducklett   \n",
       "115   https://pokemondb.net/pokedex/vanilluxe   \n",
       "116  https://pokemondb.net/pokedex/karrablast   \n",
       "117    https://pokemondb.net/pokedex/frillish   \n",
       "118  https://pokemondb.net/pokedex/galvantula   \n",
       "119       https://pokemondb.net/pokedex/klang   \n",
       "120  https://pokemondb.net/pokedex/eelektross   \n",
       "121     https://pokemondb.net/pokedex/lampent   \n",
       "122     https://pokemondb.net/pokedex/shelmet   \n",
       "123    https://pokemondb.net/pokedex/mienshao   \n",
       "124    https://pokemondb.net/pokedex/pawniard   \n",
       "125    https://pokemondb.net/pokedex/braviary   \n",
       "126      https://pokemondb.net/pokedex/durant   \n",
       "127    https://pokemondb.net/pokedex/larvesta   \n",
       "128    https://pokemondb.net/pokedex/virizion   \n",
       "129  https://pokemondb.net/pokedex/chesnaught   \n",
       "130     https://pokemondb.net/pokedex/froakie   \n",
       "131   https://pokemondb.net/pokedex/diggersby   \n",
       "132  https://pokemondb.net/pokedex/scatterbug   \n",
       "133      https://pokemondb.net/pokedex/pyroar   \n",
       "134      https://pokemondb.net/pokedex/skiddo   \n",
       "135     https://pokemondb.net/pokedex/furfrou   \n",
       "136    https://pokemondb.net/pokedex/doublade   \n",
       "137      https://pokemondb.net/pokedex/tyrunt   \n",
       "138       https://pokemondb.net/pokedex/goomy   \n",
       "139    https://pokemondb.net/pokedex/phantump   \n",
       "140    https://pokemondb.net/pokedex/bergmite   \n",
       "\n",
       "                                                    XY  \n",
       "0                                         Lumiose City  \n",
       "1                                      Evolve Squirtle  \n",
       "2                              Evolve Caterpie/Metapod  \n",
       "3                                           Route 2, 3  \n",
       "4                      Trade/migrate from another game  \n",
       "5                                             Route 19  \n",
       "6                              Route 18, Terminus Cave  \n",
       "7                                             Route 11  \n",
       "8                      Trade/migrate from another game  \n",
       "9                                        Evolve Oddish  \n",
       "10                     Trade/migrate from another game  \n",
       "11                     Trade/migrate from another game  \n",
       "12                     Trade/migrate from another game  \n",
       "13   Route 14, 15, 16, 19, 21, Laverre City, Frost ...  \n",
       "14   Route 8, 12, Cyllage City, Ambrette Town, Shal...  \n",
       "15                                             Route 5  \n",
       "16                     Trade/migrate from another game  \n",
       "17                                Breed Haunter/Gengar  \n",
       "18                     Trade/migrate from another game  \n",
       "19                                     Breed Electrode  \n",
       "20                                     Glittering Cave  \n",
       "21                                        Victory Road  \n",
       "22                         Cyllage City, Ambrette Town  \n",
       "23                                        Frost Cavern  \n",
       "24                                            Route 12  \n",
       "25                                     Pokémon Village  \n",
       "26                                       Ambrette Town  \n",
       "27                     Sea Spirit's Den, Roaming Kalos  \n",
       "28                                            Route 21  \n",
       "29                     Trade/migrate from another game  \n",
       "..                                                 ...  \n",
       "111                                      Ambrette Town  \n",
       "112                                         Lost Hotel  \n",
       "113                    Trade/migrate from another game  \n",
       "114                                            Route 7  \n",
       "115                         Evolve Vanillite/Vanillish  \n",
       "116                                       Route 14, 19  \n",
       "117                    Trade/migrate from another game  \n",
       "118                    Trade/migrate from another game  \n",
       "119                    Trade/migrate from another game  \n",
       "120                    Trade/migrate from another game  \n",
       "121                                     Evolve Litwick  \n",
       "122                                       Route 14, 19  \n",
       "123                                     Evolve Mienfoo  \n",
       "124                               Route 15, Lost Hotel  \n",
       "125                    Trade/migrate from another game  \n",
       "126                            Route 18, Terminus Cave  \n",
       "127                    Trade/migrate from another game  \n",
       "128                    Trade/migrate from another game  \n",
       "129                           Evolve Chespin/Quilladin  \n",
       "130                     Vaniville Town, Aquacorde Town  \n",
       "131                                           Route 22  \n",
       "132                          Route 2, Santalune Forest  \n",
       "133                                      Evolve Litleo  \n",
       "134                                            Route 5  \n",
       "135                                            Route 5  \n",
       "136                                     Evolve Honedge  \n",
       "137                                      Ambrette Town  \n",
       "138                                           Route 14  \n",
       "139                                           Route 16  \n",
       "140                                       Frost Cavern  \n",
       "\n",
       "[141 rows x 2 columns]"
      ]
     },
     "execution_count": 678,
     "metadata": {},
     "output_type": "execute_result"
    }
   ],
   "source": [
    "H = pd.DataFrame(holdurl)\n",
    "H = H.rename(columns = {0:\"URL\"})    #Making URL as column header\n",
    "H2 =pd.DataFrame(holdloc)\n",
    "H2 = H2.rename(columns = {0:\"XY\"})   #Making XY as column header\n",
    "result = pd.concat([H,H2], axis =1, join =\"inner\") #concatinating using inner join\n",
    "result"
   ]
  },
  {
   "cell_type": "markdown",
   "metadata": {},
   "source": [
    "### Exercise #4"
   ]
  },
  {
   "cell_type": "markdown",
   "metadata": {},
   "source": [
    "#### Step 4.1"
   ]
  },
  {
   "cell_type": "code",
   "execution_count": 465,
   "metadata": {},
   "outputs": [],
   "source": [
    "def analysis1(Types):\n",
    "    avg_attack = []\n",
    "    avg_defense = []\n",
    "    types1 = []\n",
    "    op = []\n",
    "    for t in Types:\n",
    "        avg_attack.append(pok_df_result[pok_df_result[t]==1].Attack.mean()) #appedning to avg_attack list\n",
    "        avg_defense.append(pok_df_result[pok_df_result[t]==1].Defense.mean()) #appedning to avg_defense list\n",
    "        types1.append(t) #appedning to types1 list\n",
    "        \n",
    "    op=pd.concat([pd.DataFrame(types1),pd.DataFrame(avg_attack),pd.DataFrame(avg_defense)],axis=1,ignore_index=True)\n",
    "    op1 = pd.DataFrame(op)\n",
    "    op2 = op1\n",
    "    return op2"
   ]
  },
  {
   "cell_type": "code",
   "execution_count": 699,
   "metadata": {},
   "outputs": [
    {
     "data": {
      "text/html": [
       "<div>\n",
       "<style scoped>\n",
       "    .dataframe tbody tr th:only-of-type {\n",
       "        vertical-align: middle;\n",
       "    }\n",
       "\n",
       "    .dataframe tbody tr th {\n",
       "        vertical-align: top;\n",
       "    }\n",
       "\n",
       "    .dataframe thead th {\n",
       "        text-align: right;\n",
       "    }\n",
       "</style>\n",
       "<table border=\"1\" class=\"dataframe\">\n",
       "  <thead>\n",
       "    <tr style=\"text-align: right;\">\n",
       "      <th></th>\n",
       "      <th>Type</th>\n",
       "      <th>Avg. Attack</th>\n",
       "      <th>Avg. Defense</th>\n",
       "    </tr>\n",
       "  </thead>\n",
       "  <tbody>\n",
       "    <tr>\n",
       "      <th>0</th>\n",
       "      <td>Bug</td>\n",
       "      <td>72.734940</td>\n",
       "      <td>72.168675</td>\n",
       "    </tr>\n",
       "    <tr>\n",
       "      <th>1</th>\n",
       "      <td>Dark</td>\n",
       "      <td>95.066667</td>\n",
       "      <td>69.216667</td>\n",
       "    </tr>\n",
       "    <tr>\n",
       "      <th>2</th>\n",
       "      <td>Dragon</td>\n",
       "      <td>103.475410</td>\n",
       "      <td>87.393443</td>\n",
       "    </tr>\n",
       "    <tr>\n",
       "      <th>3</th>\n",
       "      <td>Electric</td>\n",
       "      <td>73.741935</td>\n",
       "      <td>69.693548</td>\n",
       "    </tr>\n",
       "    <tr>\n",
       "      <th>4</th>\n",
       "      <td>Fairy</td>\n",
       "      <td>64.641509</td>\n",
       "      <td>73.113208</td>\n",
       "    </tr>\n",
       "  </tbody>\n",
       "</table>\n",
       "</div>"
      ],
      "text/plain": [
       "       Type  Avg. Attack  Avg. Defense\n",
       "0       Bug    72.734940     72.168675\n",
       "1      Dark    95.066667     69.216667\n",
       "2    Dragon   103.475410     87.393443\n",
       "3  Electric    73.741935     69.693548\n",
       "4     Fairy    64.641509     73.113208"
      ]
     },
     "execution_count": 699,
     "metadata": {},
     "output_type": "execute_result"
    }
   ],
   "source": [
    "Types=pok_df_dummy.columns.values\n",
    "analysisone=analysis1(Types) #passing type to function analysis1 \n",
    "analysisone.columns=[\"Type\",\"Avg. Attack\", \"Avg. Defense\"] #making column names as Type,Avg. Attack and Avg. Defense\n",
    "analysisone.head()"
   ]
  },
  {
   "cell_type": "code",
   "execution_count": 467,
   "metadata": {},
   "outputs": [
    {
     "data": {
      "text/plain": [
       "Type            Fighting\n",
       "Avg. Attack      105.825\n",
       "Avg. Defense     75.3968\n",
       "Name: 5, dtype: object"
      ]
     },
     "execution_count": 467,
     "metadata": {},
     "output_type": "execute_result"
    }
   ],
   "source": [
    "analysisone.loc[analysisone['Avg. Attack'].idxmax()]"
   ]
  },
  {
   "cell_type": "code",
   "execution_count": 468,
   "metadata": {},
   "outputs": [
    {
     "data": {
      "text/plain": [
       "Type              Fairy\n",
       "Avg. Attack     64.6415\n",
       "Avg. Defense    73.1132\n",
       "Name: 4, dtype: object"
      ]
     },
     "execution_count": 468,
     "metadata": {},
     "output_type": "execute_result"
    }
   ],
   "source": [
    "analysisone.loc[analysisone['Avg. Attack'].idxmin()]"
   ]
  },
  {
   "cell_type": "code",
   "execution_count": 469,
   "metadata": {},
   "outputs": [
    {
     "data": {
      "text/plain": [
       "Type              Steel\n",
       "Avg. Attack     97.1587\n",
       "Avg. Defense    114.635\n",
       "Name: 16, dtype: object"
      ]
     },
     "execution_count": 469,
     "metadata": {},
     "output_type": "execute_result"
    }
   ],
   "source": [
    "analysisone.loc[analysisone['Avg. Defense'].idxmax()]"
   ]
  },
  {
   "cell_type": "code",
   "execution_count": 470,
   "metadata": {},
   "outputs": [
    {
     "data": {
      "text/plain": [
       "Type             Normal\n",
       "Avg. Attack     74.5556\n",
       "Avg. Defense    60.2564\n",
       "Name: 12, dtype: object"
      ]
     },
     "execution_count": 470,
     "metadata": {},
     "output_type": "execute_result"
    }
   ],
   "source": [
    "analysisone.loc[analysisone['Avg. Defense'].idxmin()]"
   ]
  },
  {
   "cell_type": "markdown",
   "metadata": {},
   "source": [
    "#### 1)Highest avg. attack is for Fighting type as 105.825.\n",
    "#### 2)Lowest avg. attack is for Fairy type as 64.6415\n",
    "#### 3)Highest avg. defense is for Steel type as 114.635\n",
    "#### 4)Lowest avg. defense is for Normal type as 60.2564"
   ]
  },
  {
   "cell_type": "markdown",
   "metadata": {},
   "source": [
    "#### Step 4.2"
   ]
  },
  {
   "cell_type": "code",
   "execution_count": 499,
   "metadata": {},
   "outputs": [],
   "source": [
    "analysis2 = pd.merge(result,sample_df, on='URL',how=\"inner\")"
   ]
  },
  {
   "cell_type": "code",
   "execution_count": 504,
   "metadata": {},
   "outputs": [
    {
     "data": {
      "text/html": [
       "<div>\n",
       "<style scoped>\n",
       "    .dataframe tbody tr th:only-of-type {\n",
       "        vertical-align: middle;\n",
       "    }\n",
       "\n",
       "    .dataframe tbody tr th {\n",
       "        vertical-align: top;\n",
       "    }\n",
       "\n",
       "    .dataframe thead th {\n",
       "        text-align: right;\n",
       "    }\n",
       "</style>\n",
       "<table border=\"1\" class=\"dataframe\">\n",
       "  <thead>\n",
       "    <tr style=\"text-align: right;\">\n",
       "      <th></th>\n",
       "      <th>URL</th>\n",
       "      <th>XY</th>\n",
       "      <th>ID Number</th>\n",
       "      <th>Name</th>\n",
       "      <th>Type/s</th>\n",
       "      <th>Total points</th>\n",
       "      <th>HP</th>\n",
       "      <th>Attack</th>\n",
       "      <th>Defense</th>\n",
       "      <th>Sp. Atk</th>\n",
       "      <th>Sp. Def</th>\n",
       "      <th>Speed</th>\n",
       "      <th>sample</th>\n",
       "    </tr>\n",
       "  </thead>\n",
       "  <tbody>\n",
       "    <tr>\n",
       "      <th>136</th>\n",
       "      <td>https://pokemondb.net/pokedex/doublade</td>\n",
       "      <td>Evolve Honedge</td>\n",
       "      <td>680</td>\n",
       "      <td>Doublade</td>\n",
       "      <td>[Steel, Ghost]</td>\n",
       "      <td>448</td>\n",
       "      <td>59</td>\n",
       "      <td>110</td>\n",
       "      <td>150</td>\n",
       "      <td>45</td>\n",
       "      <td>49</td>\n",
       "      <td>35</td>\n",
       "      <td>1</td>\n",
       "    </tr>\n",
       "    <tr>\n",
       "      <th>137</th>\n",
       "      <td>https://pokemondb.net/pokedex/tyrunt</td>\n",
       "      <td>Ambrette Town</td>\n",
       "      <td>696</td>\n",
       "      <td>Tyrunt</td>\n",
       "      <td>[Rock, Dragon]</td>\n",
       "      <td>362</td>\n",
       "      <td>58</td>\n",
       "      <td>89</td>\n",
       "      <td>77</td>\n",
       "      <td>45</td>\n",
       "      <td>45</td>\n",
       "      <td>48</td>\n",
       "      <td>1</td>\n",
       "    </tr>\n",
       "    <tr>\n",
       "      <th>138</th>\n",
       "      <td>https://pokemondb.net/pokedex/goomy</td>\n",
       "      <td>Route 14</td>\n",
       "      <td>704</td>\n",
       "      <td>Goomy</td>\n",
       "      <td>[Dragon]</td>\n",
       "      <td>300</td>\n",
       "      <td>45</td>\n",
       "      <td>50</td>\n",
       "      <td>35</td>\n",
       "      <td>55</td>\n",
       "      <td>75</td>\n",
       "      <td>40</td>\n",
       "      <td>1</td>\n",
       "    </tr>\n",
       "    <tr>\n",
       "      <th>139</th>\n",
       "      <td>https://pokemondb.net/pokedex/phantump</td>\n",
       "      <td>Route 16</td>\n",
       "      <td>708</td>\n",
       "      <td>Phantump</td>\n",
       "      <td>[Ghost, Grass]</td>\n",
       "      <td>309</td>\n",
       "      <td>43</td>\n",
       "      <td>70</td>\n",
       "      <td>48</td>\n",
       "      <td>50</td>\n",
       "      <td>60</td>\n",
       "      <td>38</td>\n",
       "      <td>1</td>\n",
       "    </tr>\n",
       "    <tr>\n",
       "      <th>140</th>\n",
       "      <td>https://pokemondb.net/pokedex/bergmite</td>\n",
       "      <td>Frost Cavern</td>\n",
       "      <td>712</td>\n",
       "      <td>Bergmite</td>\n",
       "      <td>[Ice]</td>\n",
       "      <td>304</td>\n",
       "      <td>55</td>\n",
       "      <td>69</td>\n",
       "      <td>85</td>\n",
       "      <td>32</td>\n",
       "      <td>35</td>\n",
       "      <td>28</td>\n",
       "      <td>1</td>\n",
       "    </tr>\n",
       "  </tbody>\n",
       "</table>\n",
       "</div>"
      ],
      "text/plain": [
       "                                        URL              XY  ID Number  \\\n",
       "136  https://pokemondb.net/pokedex/doublade  Evolve Honedge        680   \n",
       "137    https://pokemondb.net/pokedex/tyrunt   Ambrette Town        696   \n",
       "138     https://pokemondb.net/pokedex/goomy        Route 14        704   \n",
       "139  https://pokemondb.net/pokedex/phantump        Route 16        708   \n",
       "140  https://pokemondb.net/pokedex/bergmite    Frost Cavern        712   \n",
       "\n",
       "         Name          Type/s  Total points  HP  Attack  Defense  Sp. Atk  \\\n",
       "136  Doublade  [Steel, Ghost]           448  59     110      150       45   \n",
       "137    Tyrunt  [Rock, Dragon]           362  58      89       77       45   \n",
       "138     Goomy        [Dragon]           300  45      50       35       55   \n",
       "139  Phantump  [Ghost, Grass]           309  43      70       48       50   \n",
       "140  Bergmite           [Ice]           304  55      69       85       32   \n",
       "\n",
       "     Sp. Def  Speed  sample  \n",
       "136       49     35       1  \n",
       "137       45     48       1  \n",
       "138       75     40       1  \n",
       "139       60     38       1  \n",
       "140       35     28       1  "
      ]
     },
     "execution_count": 504,
     "metadata": {},
     "output_type": "execute_result"
    }
   ],
   "source": [
    "analysis2.tail()"
   ]
  },
  {
   "cell_type": "code",
   "execution_count": 545,
   "metadata": {},
   "outputs": [
    {
     "data": {
      "text/plain": [
       "ID Number       144.0\n",
       "Total points    580.0\n",
       "HP               90.0\n",
       "Attack           85.0\n",
       "Defense         100.0\n",
       "Sp. Atk          95.0\n",
       "Sp. Def         125.0\n",
       "Speed            85.0\n",
       "sample            1.0\n",
       "Name: Sea Spirit's Den, Roaming Kalos, dtype: float64"
      ]
     },
     "execution_count": 545,
     "metadata": {},
     "output_type": "execute_result"
    }
   ],
   "source": [
    "analysistwo=analysis2.groupby('XY').mean()\n",
    "#analysistwo['Total points']\n",
    "analysistwo.loc[analysistwo['Total points'].idxmax()]\n"
   ]
  },
  {
   "cell_type": "markdown",
   "metadata": {},
   "source": [
    "#### Location is Sea Spirit's Den, Roaming Kalos with highest average total point score as 580"
   ]
  },
  {
   "cell_type": "markdown",
   "metadata": {},
   "source": [
    "### Extra work : If you want to get images of Charizard mega x, y and such duplicates existing"
   ]
  },
  {
   "cell_type": "code",
   "execution_count": null,
   "metadata": {},
   "outputs": [],
   "source": [
    "def image1(name1):\n",
    "    name2=\"https://img.pokemondb.net/artwork/\"+name1+\".jpg\"\n",
    "    pokemon_image1 = imageurl_page_soup.find_all(name=\"a\",rel=\"lightbox\",href=True)\n",
    "    length1=len(pokemon_image1)\n",
    "    loop = []\n",
    "    for i in range(length1):\n",
    "        final_image=pokemon_image1[i]\n",
    "        final_image1=final_image[\"href\"]\n",
    "        loop.append(final_image1)\n",
    "    return loop"
   ]
  }
 ],
 "metadata": {
  "kernelspec": {
   "display_name": "Python 3",
   "language": "python",
   "name": "python3"
  },
  "language_info": {
   "codemirror_mode": {
    "name": "ipython",
    "version": 3
   },
   "file_extension": ".py",
   "mimetype": "text/x-python",
   "name": "python",
   "nbconvert_exporter": "python",
   "pygments_lexer": "ipython3",
   "version": "3.7.3"
  }
 },
 "nbformat": 4,
 "nbformat_minor": 2
}
